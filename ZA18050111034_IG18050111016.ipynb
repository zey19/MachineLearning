{
 "cells": [
  {
   "cell_type": "markdown",
   "id": "1c3a6f51",
   "metadata": {},
   "source": [
    "# Zeynep AFAT 18050111034\n",
    "# İsmail GÜVEN 18050111016"
   ]
  },
  {
   "cell_type": "code",
   "execution_count": 1,
   "id": "ee56d829",
   "metadata": {},
   "outputs": [],
   "source": [
    "import numpy as np"
   ]
  },
  {
   "cell_type": "code",
   "execution_count": 2,
   "id": "c905c776",
   "metadata": {},
   "outputs": [],
   "source": [
    "import matplotlib.pyplot as plt\n",
    "%matplotlib inline"
   ]
  },
  {
   "cell_type": "code",
   "execution_count": 3,
   "id": "67bf959d",
   "metadata": {},
   "outputs": [],
   "source": [
    "from sklearn.metrics import mean_squared_error, r2_score"
   ]
  },
  {
   "cell_type": "markdown",
   "id": "731c5893",
   "metadata": {},
   "source": [
    "# We read the dataframe with pandas library"
   ]
  },
  {
   "cell_type": "code",
   "execution_count": 4,
   "id": "625aab2f",
   "metadata": {},
   "outputs": [
    {
     "data": {
      "text/html": [
       "<div>\n",
       "<style scoped>\n",
       "    .dataframe tbody tr th:only-of-type {\n",
       "        vertical-align: middle;\n",
       "    }\n",
       "\n",
       "    .dataframe tbody tr th {\n",
       "        vertical-align: top;\n",
       "    }\n",
       "\n",
       "    .dataframe thead th {\n",
       "        text-align: right;\n",
       "    }\n",
       "</style>\n",
       "<table border=\"1\" class=\"dataframe\">\n",
       "  <thead>\n",
       "    <tr style=\"text-align: right;\">\n",
       "      <th></th>\n",
       "      <th>Days_Corn</th>\n",
       "      <th>Days_Cotton</th>\n",
       "      <th>Corn_NDVI_2013</th>\n",
       "      <th>Cotton_NDVI_2013</th>\n",
       "      <th>Corn_MSAVI_2013</th>\n",
       "      <th>Cotton_MSAVI_2013</th>\n",
       "      <th>Corn_EVI_2013</th>\n",
       "      <th>Cotton_EVI_2013</th>\n",
       "      <th>Corn_NDVI_2014</th>\n",
       "      <th>Cotton_NDVI_2014</th>\n",
       "      <th>Corn_MSAVI_2014</th>\n",
       "      <th>Cotton_MSAVI_2014</th>\n",
       "      <th>Corn_EVI_2014</th>\n",
       "      <th>Cotton_EVI_2014</th>\n",
       "    </tr>\n",
       "  </thead>\n",
       "  <tbody>\n",
       "    <tr>\n",
       "      <th>0</th>\n",
       "      <td>195</td>\n",
       "      <td>173</td>\n",
       "      <td>0.220787</td>\n",
       "      <td>0.266734</td>\n",
       "      <td>0.138773</td>\n",
       "      <td>0.171675</td>\n",
       "      <td>0.136321</td>\n",
       "      <td>0.168227</td>\n",
       "      <td>0.267668</td>\n",
       "      <td>0.304886</td>\n",
       "      <td>0.169187</td>\n",
       "      <td>0.197476</td>\n",
       "      <td>0.168276</td>\n",
       "      <td>0.195093</td>\n",
       "    </tr>\n",
       "    <tr>\n",
       "      <th>1</th>\n",
       "      <td>196</td>\n",
       "      <td>174</td>\n",
       "      <td>0.236955</td>\n",
       "      <td>0.275388</td>\n",
       "      <td>0.147700</td>\n",
       "      <td>0.178417</td>\n",
       "      <td>0.145747</td>\n",
       "      <td>0.175212</td>\n",
       "      <td>0.283176</td>\n",
       "      <td>0.314678</td>\n",
       "      <td>0.179115</td>\n",
       "      <td>0.203764</td>\n",
       "      <td>0.178832</td>\n",
       "      <td>0.201546</td>\n",
       "    </tr>\n",
       "    <tr>\n",
       "      <th>2</th>\n",
       "      <td>197</td>\n",
       "      <td>175</td>\n",
       "      <td>0.253122</td>\n",
       "      <td>0.284041</td>\n",
       "      <td>0.156627</td>\n",
       "      <td>0.185160</td>\n",
       "      <td>0.155173</td>\n",
       "      <td>0.182198</td>\n",
       "      <td>0.298683</td>\n",
       "      <td>0.324470</td>\n",
       "      <td>0.189043</td>\n",
       "      <td>0.210052</td>\n",
       "      <td>0.189389</td>\n",
       "      <td>0.207999</td>\n",
       "    </tr>\n",
       "    <tr>\n",
       "      <th>3</th>\n",
       "      <td>198</td>\n",
       "      <td>176</td>\n",
       "      <td>0.269290</td>\n",
       "      <td>0.292695</td>\n",
       "      <td>0.165554</td>\n",
       "      <td>0.191902</td>\n",
       "      <td>0.164599</td>\n",
       "      <td>0.189184</td>\n",
       "      <td>0.314191</td>\n",
       "      <td>0.338776</td>\n",
       "      <td>0.198972</td>\n",
       "      <td>0.221653</td>\n",
       "      <td>0.199946</td>\n",
       "      <td>0.220212</td>\n",
       "    </tr>\n",
       "    <tr>\n",
       "      <th>4</th>\n",
       "      <td>199</td>\n",
       "      <td>177</td>\n",
       "      <td>0.285457</td>\n",
       "      <td>0.301349</td>\n",
       "      <td>0.174481</td>\n",
       "      <td>0.198645</td>\n",
       "      <td>0.174024</td>\n",
       "      <td>0.196169</td>\n",
       "      <td>0.334603</td>\n",
       "      <td>0.353082</td>\n",
       "      <td>0.211019</td>\n",
       "      <td>0.233255</td>\n",
       "      <td>0.212662</td>\n",
       "      <td>0.232425</td>\n",
       "    </tr>\n",
       "  </tbody>\n",
       "</table>\n",
       "</div>"
      ],
      "text/plain": [
       "   Days_Corn  Days_Cotton  Corn_NDVI_2013  Cotton_NDVI_2013  Corn_MSAVI_2013  \\\n",
       "0        195          173        0.220787          0.266734         0.138773   \n",
       "1        196          174        0.236955          0.275388         0.147700   \n",
       "2        197          175        0.253122          0.284041         0.156627   \n",
       "3        198          176        0.269290          0.292695         0.165554   \n",
       "4        199          177        0.285457          0.301349         0.174481   \n",
       "\n",
       "   Cotton_MSAVI_2013  Corn_EVI_2013  Cotton_EVI_2013  Corn_NDVI_2014  \\\n",
       "0           0.171675       0.136321         0.168227        0.267668   \n",
       "1           0.178417       0.145747         0.175212        0.283176   \n",
       "2           0.185160       0.155173         0.182198        0.298683   \n",
       "3           0.191902       0.164599         0.189184        0.314191   \n",
       "4           0.198645       0.174024         0.196169        0.334603   \n",
       "\n",
       "   Cotton_NDVI_2014  Corn_MSAVI_2014  Cotton_MSAVI_2014  Corn_EVI_2014  \\\n",
       "0          0.304886         0.169187           0.197476       0.168276   \n",
       "1          0.314678         0.179115           0.203764       0.178832   \n",
       "2          0.324470         0.189043           0.210052       0.189389   \n",
       "3          0.338776         0.198972           0.221653       0.199946   \n",
       "4          0.353082         0.211019           0.233255       0.212662   \n",
       "\n",
       "   Cotton_EVI_2014  \n",
       "0         0.195093  \n",
       "1         0.201546  \n",
       "2         0.207999  \n",
       "3         0.220212  \n",
       "4         0.232425  "
      ]
     },
     "execution_count": 4,
     "metadata": {},
     "output_type": "execute_result"
    }
   ],
   "source": [
    "import pandas as pd\n",
    "ad = pd.read_csv(\"HW3Data.csv\")\n",
    "df  = ad.copy()\n",
    "df.head()"
   ]
  },
  {
   "cell_type": "code",
   "execution_count": 5,
   "id": "8191641b",
   "metadata": {},
   "outputs": [
    {
     "name": "stdout",
     "output_type": "stream",
     "text": [
      "<class 'pandas.core.frame.DataFrame'>\n",
      "RangeIndex: 40 entries, 0 to 39\n",
      "Data columns (total 14 columns):\n",
      " #   Column             Non-Null Count  Dtype  \n",
      "---  ------             --------------  -----  \n",
      " 0   Days_Corn          40 non-null     int64  \n",
      " 1   Days_Cotton        40 non-null     int64  \n",
      " 2   Corn_NDVI_2013     40 non-null     float64\n",
      " 3   Cotton_NDVI_2013   40 non-null     float64\n",
      " 4   Corn_MSAVI_2013    40 non-null     float64\n",
      " 5   Cotton_MSAVI_2013  40 non-null     float64\n",
      " 6   Corn_EVI_2013      40 non-null     float64\n",
      " 7   Cotton_EVI_2013    40 non-null     float64\n",
      " 8   Corn_NDVI_2014     40 non-null     float64\n",
      " 9   Cotton_NDVI_2014   40 non-null     float64\n",
      " 10  Corn_MSAVI_2014    40 non-null     float64\n",
      " 11  Cotton_MSAVI_2014  40 non-null     float64\n",
      " 12  Corn_EVI_2014      40 non-null     float64\n",
      " 13  Cotton_EVI_2014    40 non-null     float64\n",
      "dtypes: float64(12), int64(2)\n",
      "memory usage: 4.5 KB\n"
     ]
    }
   ],
   "source": [
    "df.info()\n"
   ]
  },
  {
   "cell_type": "code",
   "execution_count": 6,
   "id": "e28df01d",
   "metadata": {},
   "outputs": [
    {
     "data": {
      "text/html": [
       "<div>\n",
       "<style scoped>\n",
       "    .dataframe tbody tr th:only-of-type {\n",
       "        vertical-align: middle;\n",
       "    }\n",
       "\n",
       "    .dataframe tbody tr th {\n",
       "        vertical-align: top;\n",
       "    }\n",
       "\n",
       "    .dataframe thead th {\n",
       "        text-align: right;\n",
       "    }\n",
       "</style>\n",
       "<table border=\"1\" class=\"dataframe\">\n",
       "  <thead>\n",
       "    <tr style=\"text-align: right;\">\n",
       "      <th></th>\n",
       "      <th>count</th>\n",
       "      <th>mean</th>\n",
       "      <th>std</th>\n",
       "      <th>min</th>\n",
       "      <th>25%</th>\n",
       "      <th>50%</th>\n",
       "      <th>75%</th>\n",
       "      <th>max</th>\n",
       "    </tr>\n",
       "  </thead>\n",
       "  <tbody>\n",
       "    <tr>\n",
       "      <th>Days_Corn</th>\n",
       "      <td>40.0</td>\n",
       "      <td>214.500000</td>\n",
       "      <td>11.690452</td>\n",
       "      <td>195.000000</td>\n",
       "      <td>204.750000</td>\n",
       "      <td>214.500000</td>\n",
       "      <td>224.250000</td>\n",
       "      <td>234.000000</td>\n",
       "    </tr>\n",
       "    <tr>\n",
       "      <th>Days_Cotton</th>\n",
       "      <td>40.0</td>\n",
       "      <td>192.500000</td>\n",
       "      <td>11.690452</td>\n",
       "      <td>173.000000</td>\n",
       "      <td>182.750000</td>\n",
       "      <td>192.500000</td>\n",
       "      <td>202.250000</td>\n",
       "      <td>212.000000</td>\n",
       "    </tr>\n",
       "    <tr>\n",
       "      <th>Corn_NDVI_2013</th>\n",
       "      <td>40.0</td>\n",
       "      <td>0.554750</td>\n",
       "      <td>0.195304</td>\n",
       "      <td>0.220787</td>\n",
       "      <td>0.380911</td>\n",
       "      <td>0.572270</td>\n",
       "      <td>0.740036</td>\n",
       "      <td>0.809093</td>\n",
       "    </tr>\n",
       "    <tr>\n",
       "      <th>Cotton_NDVI_2013</th>\n",
       "      <td>40.0</td>\n",
       "      <td>0.528808</td>\n",
       "      <td>0.173329</td>\n",
       "      <td>0.266734</td>\n",
       "      <td>0.372978</td>\n",
       "      <td>0.526750</td>\n",
       "      <td>0.689864</td>\n",
       "      <td>0.789300</td>\n",
       "    </tr>\n",
       "    <tr>\n",
       "      <th>Corn_MSAVI_2013</th>\n",
       "      <td>40.0</td>\n",
       "      <td>0.365223</td>\n",
       "      <td>0.146746</td>\n",
       "      <td>0.138773</td>\n",
       "      <td>0.228983</td>\n",
       "      <td>0.364005</td>\n",
       "      <td>0.507255</td>\n",
       "      <td>0.568205</td>\n",
       "    </tr>\n",
       "    <tr>\n",
       "      <th>Cotton_MSAVI_2013</th>\n",
       "      <td>40.0</td>\n",
       "      <td>0.385857</td>\n",
       "      <td>0.151509</td>\n",
       "      <td>0.171675</td>\n",
       "      <td>0.249782</td>\n",
       "      <td>0.371922</td>\n",
       "      <td>0.521289</td>\n",
       "      <td>0.635215</td>\n",
       "    </tr>\n",
       "    <tr>\n",
       "      <th>Corn_EVI_2013</th>\n",
       "      <td>40.0</td>\n",
       "      <td>0.369945</td>\n",
       "      <td>0.149321</td>\n",
       "      <td>0.136321</td>\n",
       "      <td>0.231567</td>\n",
       "      <td>0.371020</td>\n",
       "      <td>0.513784</td>\n",
       "      <td>0.575412</td>\n",
       "    </tr>\n",
       "    <tr>\n",
       "      <th>Cotton_EVI_2013</th>\n",
       "      <td>40.0</td>\n",
       "      <td>0.390534</td>\n",
       "      <td>0.156852</td>\n",
       "      <td>0.168227</td>\n",
       "      <td>0.249235</td>\n",
       "      <td>0.377562</td>\n",
       "      <td>0.530434</td>\n",
       "      <td>0.647542</td>\n",
       "    </tr>\n",
       "    <tr>\n",
       "      <th>Corn_NDVI_2014</th>\n",
       "      <td>40.0</td>\n",
       "      <td>0.607154</td>\n",
       "      <td>0.184446</td>\n",
       "      <td>0.267668</td>\n",
       "      <td>0.451969</td>\n",
       "      <td>0.648168</td>\n",
       "      <td>0.789729</td>\n",
       "      <td>0.813649</td>\n",
       "    </tr>\n",
       "    <tr>\n",
       "      <th>Cotton_NDVI_2014</th>\n",
       "      <td>40.0</td>\n",
       "      <td>0.594953</td>\n",
       "      <td>0.173627</td>\n",
       "      <td>0.304886</td>\n",
       "      <td>0.438504</td>\n",
       "      <td>0.615124</td>\n",
       "      <td>0.750930</td>\n",
       "      <td>0.832642</td>\n",
       "    </tr>\n",
       "    <tr>\n",
       "      <th>Corn_MSAVI_2014</th>\n",
       "      <td>40.0</td>\n",
       "      <td>0.416085</td>\n",
       "      <td>0.149812</td>\n",
       "      <td>0.169187</td>\n",
       "      <td>0.280289</td>\n",
       "      <td>0.428846</td>\n",
       "      <td>0.566504</td>\n",
       "      <td>0.607183</td>\n",
       "    </tr>\n",
       "    <tr>\n",
       "      <th>Cotton_MSAVI_2014</th>\n",
       "      <td>40.0</td>\n",
       "      <td>0.449759</td>\n",
       "      <td>0.163920</td>\n",
       "      <td>0.197476</td>\n",
       "      <td>0.302312</td>\n",
       "      <td>0.448784</td>\n",
       "      <td>0.594833</td>\n",
       "      <td>0.705016</td>\n",
       "    </tr>\n",
       "    <tr>\n",
       "      <th>Corn_EVI_2014</th>\n",
       "      <td>40.0</td>\n",
       "      <td>0.422827</td>\n",
       "      <td>0.152629</td>\n",
       "      <td>0.168276</td>\n",
       "      <td>0.285782</td>\n",
       "      <td>0.437591</td>\n",
       "      <td>0.572962</td>\n",
       "      <td>0.618382</td>\n",
       "    </tr>\n",
       "    <tr>\n",
       "      <th>Cotton_EVI_2014</th>\n",
       "      <td>40.0</td>\n",
       "      <td>0.458116</td>\n",
       "      <td>0.170600</td>\n",
       "      <td>0.195093</td>\n",
       "      <td>0.304901</td>\n",
       "      <td>0.457053</td>\n",
       "      <td>0.609652</td>\n",
       "      <td>0.723186</td>\n",
       "    </tr>\n",
       "  </tbody>\n",
       "</table>\n",
       "</div>"
      ],
      "text/plain": [
       "                   count        mean        std         min         25%  \\\n",
       "Days_Corn           40.0  214.500000  11.690452  195.000000  204.750000   \n",
       "Days_Cotton         40.0  192.500000  11.690452  173.000000  182.750000   \n",
       "Corn_NDVI_2013      40.0    0.554750   0.195304    0.220787    0.380911   \n",
       "Cotton_NDVI_2013    40.0    0.528808   0.173329    0.266734    0.372978   \n",
       "Corn_MSAVI_2013     40.0    0.365223   0.146746    0.138773    0.228983   \n",
       "Cotton_MSAVI_2013   40.0    0.385857   0.151509    0.171675    0.249782   \n",
       "Corn_EVI_2013       40.0    0.369945   0.149321    0.136321    0.231567   \n",
       "Cotton_EVI_2013     40.0    0.390534   0.156852    0.168227    0.249235   \n",
       "Corn_NDVI_2014      40.0    0.607154   0.184446    0.267668    0.451969   \n",
       "Cotton_NDVI_2014    40.0    0.594953   0.173627    0.304886    0.438504   \n",
       "Corn_MSAVI_2014     40.0    0.416085   0.149812    0.169187    0.280289   \n",
       "Cotton_MSAVI_2014   40.0    0.449759   0.163920    0.197476    0.302312   \n",
       "Corn_EVI_2014       40.0    0.422827   0.152629    0.168276    0.285782   \n",
       "Cotton_EVI_2014     40.0    0.458116   0.170600    0.195093    0.304901   \n",
       "\n",
       "                          50%         75%         max  \n",
       "Days_Corn          214.500000  224.250000  234.000000  \n",
       "Days_Cotton        192.500000  202.250000  212.000000  \n",
       "Corn_NDVI_2013       0.572270    0.740036    0.809093  \n",
       "Cotton_NDVI_2013     0.526750    0.689864    0.789300  \n",
       "Corn_MSAVI_2013      0.364005    0.507255    0.568205  \n",
       "Cotton_MSAVI_2013    0.371922    0.521289    0.635215  \n",
       "Corn_EVI_2013        0.371020    0.513784    0.575412  \n",
       "Cotton_EVI_2013      0.377562    0.530434    0.647542  \n",
       "Corn_NDVI_2014       0.648168    0.789729    0.813649  \n",
       "Cotton_NDVI_2014     0.615124    0.750930    0.832642  \n",
       "Corn_MSAVI_2014      0.428846    0.566504    0.607183  \n",
       "Cotton_MSAVI_2014    0.448784    0.594833    0.705016  \n",
       "Corn_EVI_2014        0.437591    0.572962    0.618382  \n",
       "Cotton_EVI_2014      0.457053    0.609652    0.723186  "
      ]
     },
     "execution_count": 6,
     "metadata": {},
     "output_type": "execute_result"
    }
   ],
   "source": [
    "df.describe().T"
   ]
  },
  {
   "cell_type": "code",
   "execution_count": 7,
   "id": "69d18fa4",
   "metadata": {},
   "outputs": [],
   "source": [
    "import seaborn as sns"
   ]
  },
  {
   "cell_type": "code",
   "execution_count": 8,
   "id": "30ea6926",
   "metadata": {},
   "outputs": [
    {
     "data": {
      "text/plain": [
       "<seaborn.axisgrid.JointGrid at 0x1797e4b5190>"
      ]
     },
     "execution_count": 8,
     "metadata": {},
     "output_type": "execute_result"
    },
    {
     "data": {
      "image/png": "[encoded data removed]",
      "text/plain": [
       "<Figure size 432x432 with 3 Axes>"
      ]
     },
     "metadata": {
      "needs_background": "light"
     },
     "output_type": "display_data"
    }
   ],
   "source": [
    "sns.jointplot(x=\"Days_Corn\", y=\"Corn_NDVI_2013\", data=df, kind=\"reg\")"
   ]
  },
  {
   "cell_type": "markdown",
   "id": "fe5c6797",
   "metadata": {},
   "source": [
    "# Manually fit the curve and predict"
   ]
  },
  {
   "cell_type": "code",
   "execution_count": 9,
   "id": "4f2cdec2",
   "metadata": {},
   "outputs": [],
   "source": [
    "X = df[[\"Days_Corn\"]].to_numpy()\n",
    "y = df[[\"Corn_NDVI_2013\"]].to_numpy()"
   ]
  },
  {
   "cell_type": "code",
   "execution_count": 10,
   "id": "86f5826e",
   "metadata": {},
   "outputs": [],
   "source": [
    "X_b = np.c_[np.ones((40, 1)), X] # add x0 = 1 to each instance"
   ]
  },
  {
   "cell_type": "code",
   "execution_count": 11,
   "id": "9480c3de",
   "metadata": {},
   "outputs": [],
   "source": [
    "w_estimate = np.linalg.inv(X_b.T.dot(X_b)).dot(X_b.T).dot(y)     # fit"
   ]
  },
  {
   "cell_type": "code",
   "execution_count": 12,
   "id": "613437f2",
   "metadata": {},
   "outputs": [
    {
     "data": {
      "text/plain": [
       "array([[-3.00095083],\n",
       "       [ 0.0165767 ]])"
      ]
     },
     "execution_count": 12,
     "metadata": {},
     "output_type": "execute_result"
    }
   ],
   "source": [
    "w_estimate"
   ]
  },
  {
   "cell_type": "markdown",
   "id": "5a537757",
   "metadata": {},
   "source": [
    "### Manually estimate the Corn EVI 2013"
   ]
  },
  {
   "cell_type": "code",
   "execution_count": 138,
   "id": "8f2fb537",
   "metadata": {},
   "outputs": [],
   "source": [
    "X = df[[\"Corn_NDVI_2013\"]].to_numpy()\n",
    "y = df[[\"Corn_EVI_2013\"]].to_numpy()"
   ]
  },
  {
   "cell_type": "code",
   "execution_count": 139,
   "id": "0ad0a95e",
   "metadata": {},
   "outputs": [],
   "source": [
    "X_b = np.c_[np.ones((40, 1)), X] # add x0 = 1 to each instance"
   ]
  },
  {
   "cell_type": "code",
   "execution_count": 140,
   "id": "123d06ce",
   "metadata": {},
   "outputs": [],
   "source": [
    "w_estimate = np.linalg.inv(X_b.T.dot(X_b)).dot(X_b.T).dot(y) "
   ]
  },
  {
   "cell_type": "code",
   "execution_count": 141,
   "id": "b172e7ce",
   "metadata": {},
   "outputs": [],
   "source": [
    "x_new = df[[\"Corn_NDVI_2013\"]].to_numpy()"
   ]
  },
  {
   "cell_type": "code",
   "execution_count": 142,
   "id": "ded418e1",
   "metadata": {},
   "outputs": [],
   "source": [
    "x_new_b = np.c_[np.ones((40, 1)), x_new] # add x0 = 1 to each instance\n"
   ]
  },
  {
   "cell_type": "code",
   "execution_count": 143,
   "id": "df255618",
   "metadata": {},
   "outputs": [],
   "source": [
    "y_predict = x_new_b.dot(w_estimate)          # predict\n"
   ]
  },
  {
   "cell_type": "markdown",
   "id": "319d5b7b",
   "metadata": {},
   "source": [
    "### Plotting the manually estimated Corn_EVI_2013"
   ]
  },
  {
   "cell_type": "code",
   "execution_count": 144,
   "id": "0b1297c3",
   "metadata": {},
   "outputs": [
    {
     "data": {
      "image/png": "[encoded data removed]",
      "text/plain": [
       "<Figure size 432x288 with 1 Axes>"
      ]
     },
     "metadata": {
      "needs_background": "light"
     },
     "output_type": "display_data"
    }
   ],
   "source": [
    "plt.plot(x_new, y_predict, \"r-\")\n",
    "plt.plot(X, y, \"b.\")\n",
    "plt.grid()\n",
    "plt.title(\"Line fitting\")\n",
    "plt.xlabel(\"x\")\n",
    "plt.ylabel(\"y\");"
   ]
  },
  {
   "cell_type": "markdown",
   "id": "fe8a563b",
   "metadata": {},
   "source": [
    "### Finding MSE with Numpy arrays"
   ]
  },
  {
   "cell_type": "code",
   "execution_count": 145,
   "id": "f6d5374b",
   "metadata": {},
   "outputs": [],
   "source": [
    "df['y_predicted'] = y_predict"
   ]
  },
  {
   "cell_type": "code",
   "execution_count": 146,
   "id": "578919bf",
   "metadata": {},
   "outputs": [
    {
     "name": "stdout",
     "output_type": "stream",
     "text": [
      "0.03625086032198451\n"
     ]
    }
   ],
   "source": [
    "def mse(actual, predicted):\n",
    "    actual = np.array(actual)\n",
    "    predicted = np.array(predicted)\n",
    "    differences = np.subtract(actual, predicted)\n",
    "    squared_differences = np.square(differences)\n",
    "    return squared_differences.mean()\n",
    "\n",
    "print(mse(df['Corn_NDVI_2013'], df['y_predicted']))"
   ]
  },
  {
   "cell_type": "markdown",
   "id": "5dd75e16",
   "metadata": {},
   "source": [
    "### Fitting curve with scikit - linear regression for Corn Days and Cron NDVI"
   ]
  },
  {
   "cell_type": "code",
   "execution_count": 147,
   "id": "8816401c",
   "metadata": {},
   "outputs": [],
   "source": [
    "from sklearn.linear_model import LinearRegression"
   ]
  },
  {
   "cell_type": "code",
   "execution_count": 148,
   "id": "426158cd",
   "metadata": {},
   "outputs": [],
   "source": [
    "reg= LinearRegression()\n",
    "model = reg.fit(df[['Days_Corn']],df[['Corn_NDVI_2013']])"
   ]
  },
  {
   "cell_type": "code",
   "execution_count": 149,
   "id": "8db97298",
   "metadata": {},
   "outputs": [
    {
     "data": {
      "text/plain": [
       "array([-3.00095083])"
      ]
     },
     "execution_count": 149,
     "metadata": {},
     "output_type": "execute_result"
    }
   ],
   "source": [
    "model.intercept_"
   ]
  },
  {
   "cell_type": "code",
   "execution_count": 150,
   "id": "7e172da4",
   "metadata": {},
   "outputs": [
    {
     "data": {
      "text/plain": [
       "array([[0.0165767]])"
      ]
     },
     "execution_count": 150,
     "metadata": {},
     "output_type": "execute_result"
    }
   ],
   "source": [
    "model.coef_"
   ]
  },
  {
   "cell_type": "code",
   "execution_count": 151,
   "id": "972a44ab",
   "metadata": {},
   "outputs": [
    {
     "name": "stderr",
     "output_type": "stream",
     "text": [
      "C:\\Users\\test\\anaconda3\\lib\\site-packages\\seaborn\\_decorators.py:36: FutureWarning: Pass the following variables as keyword args: x, y. From version 0.12, the only valid positional argument will be `data`, and passing other arguments without an explicit keyword will result in an error or misinterpretation.\n",
      "  warnings.warn(\n"
     ]
    },
    {
     "data": {
      "image/png": "[encoded data removed]",
      "text/plain": [
       "<Figure size 432x288 with 1 Axes>"
      ]
     },
     "metadata": {
      "needs_background": "light"
     },
     "output_type": "display_data"
    }
   ],
   "source": [
    "g = sns.regplot(df[\"Days_Corn\"], df[\"Corn_NDVI_2013\"], ci= None, scatter_kws={'color':'r' , 's': 9})\n"
   ]
  },
  {
   "cell_type": "markdown",
   "id": "2181d50d",
   "metadata": {},
   "source": [
    "### Predicted the Corn_EVI_2013 with scikit learn and plotted the findings"
   ]
  },
  {
   "cell_type": "code",
   "execution_count": 152,
   "id": "0478f1d2",
   "metadata": {},
   "outputs": [],
   "source": [
    "model = reg.fit(df[['Corn_NDVI_2013']],df[['Corn_EVI_2013']])"
   ]
  },
  {
   "cell_type": "code",
   "execution_count": 153,
   "id": "e3359291",
   "metadata": {},
   "outputs": [],
   "source": [
    "y_predict = model.predict(df[['Corn_NDVI_2013']])"
   ]
  },
  {
   "cell_type": "code",
   "execution_count": 154,
   "id": "243a0f7e",
   "metadata": {},
   "outputs": [
    {
     "data": {
      "text/plain": [
       "array([[0.1153023 ],\n",
       "       [0.12762986],\n",
       "       [0.13995743],\n",
       "       [0.15228499],\n",
       "       [0.16461255],\n",
       "       [0.17694011],\n",
       "       [0.18926767],\n",
       "       [0.20159523],\n",
       "       [0.2139228 ],\n",
       "       [0.22625036]])"
      ]
     },
     "execution_count": 154,
     "metadata": {},
     "output_type": "execute_result"
    }
   ],
   "source": [
    "y_predict[0:10]"
   ]
  },
  {
   "cell_type": "code",
   "execution_count": 155,
   "id": "56681ecf",
   "metadata": {
    "scrolled": false
   },
   "outputs": [
    {
     "data": {
      "image/png": "[encoded data removed]",
      "text/plain": [
       "<Figure size 432x288 with 1 Axes>"
      ]
     },
     "metadata": {
      "needs_background": "light"
     },
     "output_type": "display_data"
    }
   ],
   "source": [
    "plt.plot(df['Corn_NDVI_2013'],df['Corn_EVI_2013'],  \"b.\")\n",
    "plt.plot(df['Corn_NDVI_2013'], y_predict, \"g*\")\n",
    "plt.plot(df['Corn_NDVI_2013'], y_predict, \"r-\")\n",
    "plt.grid()\n",
    "\n",
    "plt.xlabel(\"x\")\n",
    "plt.ylabel(\"y\");"
   ]
  },
  {
   "cell_type": "markdown",
   "id": "1ff2dda9",
   "metadata": {},
   "source": [
    "# MSE and RMSE for Corn EVI and Corn NDVI"
   ]
  },
  {
   "cell_type": "code",
   "execution_count": 156,
   "id": "d0b6253c",
   "metadata": {
    "scrolled": true
   },
   "outputs": [
    {
     "data": {
      "text/html": [
       "<div>\n",
       "<style scoped>\n",
       "    .dataframe tbody tr th:only-of-type {\n",
       "        vertical-align: middle;\n",
       "    }\n",
       "\n",
       "    .dataframe tbody tr th {\n",
       "        vertical-align: top;\n",
       "    }\n",
       "\n",
       "    .dataframe thead th {\n",
       "        text-align: right;\n",
       "    }\n",
       "</style>\n",
       "<table border=\"1\" class=\"dataframe\">\n",
       "  <thead>\n",
       "    <tr style=\"text-align: right;\">\n",
       "      <th></th>\n",
       "      <th>Days_Corn</th>\n",
       "      <th>Days_Cotton</th>\n",
       "      <th>Corn_NDVI_2013</th>\n",
       "      <th>Cotton_NDVI_2013</th>\n",
       "      <th>Corn_MSAVI_2013</th>\n",
       "      <th>Cotton_MSAVI_2013</th>\n",
       "      <th>Corn_EVI_2013</th>\n",
       "      <th>Cotton_EVI_2013</th>\n",
       "      <th>Corn_NDVI_2014</th>\n",
       "      <th>Cotton_NDVI_2014</th>\n",
       "      <th>Corn_MSAVI_2014</th>\n",
       "      <th>Cotton_MSAVI_2014</th>\n",
       "      <th>Corn_EVI_2014</th>\n",
       "      <th>Cotton_EVI_2014</th>\n",
       "      <th>y_predicted</th>\n",
       "    </tr>\n",
       "  </thead>\n",
       "  <tbody>\n",
       "    <tr>\n",
       "      <th>0</th>\n",
       "      <td>195</td>\n",
       "      <td>173</td>\n",
       "      <td>0.220787</td>\n",
       "      <td>0.266734</td>\n",
       "      <td>0.138773</td>\n",
       "      <td>0.171675</td>\n",
       "      <td>0.136321</td>\n",
       "      <td>0.168227</td>\n",
       "      <td>0.267668</td>\n",
       "      <td>0.304886</td>\n",
       "      <td>0.169187</td>\n",
       "      <td>0.197476</td>\n",
       "      <td>0.168276</td>\n",
       "      <td>0.195093</td>\n",
       "      <td>0.115302</td>\n",
       "    </tr>\n",
       "    <tr>\n",
       "      <th>1</th>\n",
       "      <td>196</td>\n",
       "      <td>174</td>\n",
       "      <td>0.236955</td>\n",
       "      <td>0.275388</td>\n",
       "      <td>0.147700</td>\n",
       "      <td>0.178417</td>\n",
       "      <td>0.145747</td>\n",
       "      <td>0.175212</td>\n",
       "      <td>0.283176</td>\n",
       "      <td>0.314678</td>\n",
       "      <td>0.179115</td>\n",
       "      <td>0.203764</td>\n",
       "      <td>0.178832</td>\n",
       "      <td>0.201546</td>\n",
       "      <td>0.127630</td>\n",
       "    </tr>\n",
       "    <tr>\n",
       "      <th>2</th>\n",
       "      <td>197</td>\n",
       "      <td>175</td>\n",
       "      <td>0.253122</td>\n",
       "      <td>0.284041</td>\n",
       "      <td>0.156627</td>\n",
       "      <td>0.185160</td>\n",
       "      <td>0.155173</td>\n",
       "      <td>0.182198</td>\n",
       "      <td>0.298683</td>\n",
       "      <td>0.324470</td>\n",
       "      <td>0.189043</td>\n",
       "      <td>0.210052</td>\n",
       "      <td>0.189389</td>\n",
       "      <td>0.207999</td>\n",
       "      <td>0.139957</td>\n",
       "    </tr>\n",
       "    <tr>\n",
       "      <th>3</th>\n",
       "      <td>198</td>\n",
       "      <td>176</td>\n",
       "      <td>0.269290</td>\n",
       "      <td>0.292695</td>\n",
       "      <td>0.165554</td>\n",
       "      <td>0.191902</td>\n",
       "      <td>0.164599</td>\n",
       "      <td>0.189184</td>\n",
       "      <td>0.314191</td>\n",
       "      <td>0.338776</td>\n",
       "      <td>0.198972</td>\n",
       "      <td>0.221653</td>\n",
       "      <td>0.199946</td>\n",
       "      <td>0.220212</td>\n",
       "      <td>0.152285</td>\n",
       "    </tr>\n",
       "    <tr>\n",
       "      <th>4</th>\n",
       "      <td>199</td>\n",
       "      <td>177</td>\n",
       "      <td>0.285457</td>\n",
       "      <td>0.301349</td>\n",
       "      <td>0.174481</td>\n",
       "      <td>0.198645</td>\n",
       "      <td>0.174024</td>\n",
       "      <td>0.196169</td>\n",
       "      <td>0.334603</td>\n",
       "      <td>0.353082</td>\n",
       "      <td>0.211019</td>\n",
       "      <td>0.233255</td>\n",
       "      <td>0.212662</td>\n",
       "      <td>0.232425</td>\n",
       "      <td>0.164613</td>\n",
       "    </tr>\n",
       "  </tbody>\n",
       "</table>\n",
       "</div>"
      ],
      "text/plain": [
       "   Days_Corn  Days_Cotton  Corn_NDVI_2013  Cotton_NDVI_2013  Corn_MSAVI_2013  \\\n",
       "0        195          173        0.220787          0.266734         0.138773   \n",
       "1        196          174        0.236955          0.275388         0.147700   \n",
       "2        197          175        0.253122          0.284041         0.156627   \n",
       "3        198          176        0.269290          0.292695         0.165554   \n",
       "4        199          177        0.285457          0.301349         0.174481   \n",
       "\n",
       "   Cotton_MSAVI_2013  Corn_EVI_2013  Cotton_EVI_2013  Corn_NDVI_2014  \\\n",
       "0           0.171675       0.136321         0.168227        0.267668   \n",
       "1           0.178417       0.145747         0.175212        0.283176   \n",
       "2           0.185160       0.155173         0.182198        0.298683   \n",
       "3           0.191902       0.164599         0.189184        0.314191   \n",
       "4           0.198645       0.174024         0.196169        0.334603   \n",
       "\n",
       "   Cotton_NDVI_2014  Corn_MSAVI_2014  Cotton_MSAVI_2014  Corn_EVI_2014  \\\n",
       "0          0.304886         0.169187           0.197476       0.168276   \n",
       "1          0.314678         0.179115           0.203764       0.178832   \n",
       "2          0.324470         0.189043           0.210052       0.189389   \n",
       "3          0.338776         0.198972           0.221653       0.199946   \n",
       "4          0.353082         0.211019           0.233255       0.212662   \n",
       "\n",
       "   Cotton_EVI_2014  y_predicted  \n",
       "0         0.195093     0.115302  \n",
       "1         0.201546     0.127630  \n",
       "2         0.207999     0.139957  \n",
       "3         0.220212     0.152285  \n",
       "4         0.232425     0.164613  "
      ]
     },
     "execution_count": 156,
     "metadata": {},
     "output_type": "execute_result"
    }
   ],
   "source": [
    "df['y_predicted'] = y_predict\n",
    "df.head()"
   ]
  },
  {
   "cell_type": "code",
   "execution_count": 157,
   "id": "c29706b2",
   "metadata": {},
   "outputs": [
    {
     "name": "stdout",
     "output_type": "stream",
     "text": [
      "0.03625086032198451\n"
     ]
    }
   ],
   "source": [
    "mse = mean_squared_error(df['Corn_NDVI_2013'], df['y_predicted'])\n",
    "print(mse)"
   ]
  },
  {
   "cell_type": "code",
   "execution_count": 158,
   "id": "87c718b6",
   "metadata": {},
   "outputs": [
    {
     "data": {
      "text/plain": [
       "0.1903965869494107"
      ]
     },
     "execution_count": 158,
     "metadata": {},
     "output_type": "execute_result"
    }
   ],
   "source": [
    "rmse = np.sqrt(mse)\n",
    "rmse"
   ]
  },
  {
   "cell_type": "markdown",
   "id": "8c32068d",
   "metadata": {},
   "source": [
    "### Predicted the Corn_MSAVI_2013 with scikit learn and plotted the findings"
   ]
  },
  {
   "cell_type": "code",
   "execution_count": 159,
   "id": "8626aacb",
   "metadata": {},
   "outputs": [],
   "source": [
    "model = reg.fit(df[['Corn_NDVI_2013']],df[['Corn_MSAVI_2013']])"
   ]
  },
  {
   "cell_type": "code",
   "execution_count": 160,
   "id": "54afa92a",
   "metadata": {},
   "outputs": [],
   "source": [
    "corn_msavi_predict = model.predict(df[['Corn_NDVI_2013']])"
   ]
  },
  {
   "cell_type": "code",
   "execution_count": 161,
   "id": "cf75191a",
   "metadata": {},
   "outputs": [
    {
     "data": {
      "image/png": "[encoded data removed]",
      "text/plain": [
       "<Figure size 432x288 with 1 Axes>"
      ]
     },
     "metadata": {
      "needs_background": "light"
     },
     "output_type": "display_data"
    }
   ],
   "source": [
    "plt.plot( df['Corn_NDVI_2013'],df['Corn_MSAVI_2013'], \"b.\")\n",
    "plt.plot( df['Corn_NDVI_2013'],corn_msavi_predict, \"g*\")\n",
    "plt.plot( df['Corn_NDVI_2013'],corn_msavi_predict, \"r-\")\n",
    "plt.grid()\n",
    "\n",
    "plt.xlabel(\"x\")\n",
    "plt.ylabel(\"y\");"
   ]
  },
  {
   "cell_type": "markdown",
   "id": "64f34064",
   "metadata": {},
   "source": [
    "### Predicted the Corn_EVI_2014 with scikit learn and plotted the findings"
   ]
  },
  {
   "cell_type": "code",
   "execution_count": 100,
   "id": "a298f50e",
   "metadata": {},
   "outputs": [],
   "source": [
    "model = reg.fit(df[['Corn_NDVI_2013']],df[['Corn_EVI_2014']])"
   ]
  },
  {
   "cell_type": "code",
   "execution_count": 101,
   "id": "e81ccab8",
   "metadata": {},
   "outputs": [],
   "source": [
    "y_predict = model.predict(df[['Corn_NDVI_2013']])"
   ]
  },
  {
   "cell_type": "code",
   "execution_count": 103,
   "id": "a8600aa9",
   "metadata": {
    "scrolled": false
   },
   "outputs": [
    {
     "data": {
      "image/png": "[encoded data removed]",
      "text/plain": [
       "<Figure size 432x288 with 1 Axes>"
      ]
     },
     "metadata": {
      "needs_background": "light"
     },
     "output_type": "display_data"
    }
   ],
   "source": [
    "plt.plot( df['Corn_NDVI_2013'],df['Corn_EVI_2014'], \"b.\")\n",
    "plt.plot(df['Corn_NDVI_2013'], y_predict, \"g*\")\n",
    "plt.plot(df['Corn_NDVI_2013'], y_predict, \"r-\")\n",
    "plt.grid()\n",
    "\n",
    "plt.xlabel(\"x\")\n",
    "plt.ylabel(\"y\");\n"
   ]
  },
  {
   "cell_type": "markdown",
   "id": "9b529a8a",
   "metadata": {},
   "source": [
    "### Predicted the Corn_EVI_2014 with scikit learn and plotted the findings"
   ]
  },
  {
   "cell_type": "code",
   "execution_count": 104,
   "id": "b93d0013",
   "metadata": {},
   "outputs": [],
   "source": [
    "model = reg.fit(df[['Corn_NDVI_2013']],df[['Corn_MSAVI_2014']])"
   ]
  },
  {
   "cell_type": "code",
   "execution_count": 105,
   "id": "16439108",
   "metadata": {},
   "outputs": [],
   "source": [
    "y_predict = model.predict(df[['Corn_NDVI_2013']])"
   ]
  },
  {
   "cell_type": "code",
   "execution_count": 106,
   "id": "be312fc8",
   "metadata": {},
   "outputs": [
    {
     "data": {
      "image/png": "[encoded data removed]",
      "text/plain": [
       "<Figure size 432x288 with 1 Axes>"
      ]
     },
     "metadata": {
      "needs_background": "light"
     },
     "output_type": "display_data"
    }
   ],
   "source": [
    "plt.plot(df['Corn_NDVI_2013'],df['Corn_MSAVI_2014'],  \"b.\")\n",
    "plt.plot(df['Corn_NDVI_2013'], y_predict, \"g*\")\n",
    "plt.plot(df['Corn_NDVI_2013'], y_predict, \"r-\")\n",
    "plt.grid()\n",
    "\n",
    "plt.xlabel(\"x\")\n",
    "plt.ylabel(\"y\");"
   ]
  },
  {
   "cell_type": "markdown",
   "id": "eeb68c0f",
   "metadata": {},
   "source": [
    "### Fitted the curve for Cotton with linear regression and plotted"
   ]
  },
  {
   "cell_type": "code",
   "execution_count": 43,
   "id": "f78ea18e",
   "metadata": {},
   "outputs": [
    {
     "data": {
      "text/plain": [
       "<seaborn.axisgrid.JointGrid at 0x17904e6d0a0>"
      ]
     },
     "execution_count": 43,
     "metadata": {},
     "output_type": "execute_result"
    },
    {
     "data": {
      "image/png": "[encoded data removed]",
      "text/plain": [
       "<Figure size 432x432 with 3 Axes>"
      ]
     },
     "metadata": {
      "needs_background": "light"
     },
     "output_type": "display_data"
    }
   ],
   "source": [
    "sns.jointplot(x=\"Days_Cotton\", y=\"Cotton_NDVI_2013\", data=df, kind=\"reg\")"
   ]
  },
  {
   "cell_type": "markdown",
   "id": "9ddddac3",
   "metadata": {},
   "source": [
    "### Linear regression for cotton with Scikit "
   ]
  },
  {
   "cell_type": "code",
   "execution_count": 44,
   "id": "2e0fb934",
   "metadata": {},
   "outputs": [],
   "source": [
    "reg= LinearRegression()\n",
    "model2 = reg.fit(df[[\"Days_Cotton\"]],df[[\"Cotton_NDVI_2013\"]])"
   ]
  },
  {
   "cell_type": "code",
   "execution_count": 45,
   "id": "d60faac7",
   "metadata": {},
   "outputs": [
    {
     "data": {
      "text/plain": [
       "(array([-2.31754155]), array([[0.01478623]]))"
      ]
     },
     "execution_count": 45,
     "metadata": {},
     "output_type": "execute_result"
    }
   ],
   "source": [
    "model2.intercept_, model2.coef_"
   ]
  },
  {
   "cell_type": "markdown",
   "id": "657c5175",
   "metadata": {},
   "source": [
    "### Linear Regression for Cotton with Normal Equation"
   ]
  },
  {
   "cell_type": "code",
   "execution_count": 46,
   "id": "bdfc85a6",
   "metadata": {},
   "outputs": [],
   "source": [
    "X = df[[\"Days_Cotton\"]].to_numpy()\n",
    "y = df[[\"Cotton_NDVI_2013\"]].to_numpy()"
   ]
  },
  {
   "cell_type": "code",
   "execution_count": 47,
   "id": "0f63d330",
   "metadata": {},
   "outputs": [],
   "source": [
    "X_b = np.c_[np.ones((40, 1)), X] # add x0 = 1 to each instance"
   ]
  },
  {
   "cell_type": "code",
   "execution_count": 48,
   "id": "081214d2",
   "metadata": {
    "scrolled": true
   },
   "outputs": [
    {
     "data": {
      "text/plain": [
       "array([[-2.31754155],\n",
       "       [ 0.01478623]])"
      ]
     },
     "execution_count": 48,
     "metadata": {},
     "output_type": "execute_result"
    }
   ],
   "source": [
    "w_estimate = np.linalg.inv(X_b.T.dot(X_b)).dot(X_b.T).dot(y)  \n",
    "w_estimate"
   ]
  },
  {
   "cell_type": "markdown",
   "id": "71224b63",
   "metadata": {},
   "source": [
    "### Estimated the Cotton EVI 2013 with normal Equation and plotted the findings"
   ]
  },
  {
   "cell_type": "code",
   "execution_count": 113,
   "id": "7f64f1c0",
   "metadata": {},
   "outputs": [],
   "source": [
    "X = df[[\"Cotton_NDVI_2013\"]].to_numpy()\n",
    "y = df[[\"Cotton_EVI_2013\"]].to_numpy()"
   ]
  },
  {
   "cell_type": "code",
   "execution_count": 114,
   "id": "3753cd34",
   "metadata": {},
   "outputs": [],
   "source": [
    "X_b = np.c_[np.ones((40, 1)), X] # add x0 = 1 to each instance"
   ]
  },
  {
   "cell_type": "code",
   "execution_count": 115,
   "id": "5ce62c55",
   "metadata": {},
   "outputs": [
    {
     "data": {
      "text/plain": [
       "array([[-0.08688236],\n",
       "       [ 0.90281656]])"
      ]
     },
     "execution_count": 115,
     "metadata": {},
     "output_type": "execute_result"
    }
   ],
   "source": [
    "w_estimate = np.linalg.inv(X_b.T.dot(X_b)).dot(X_b.T).dot(y)  \n",
    "w_estimate"
   ]
  },
  {
   "cell_type": "code",
   "execution_count": 116,
   "id": "b7ac7e77",
   "metadata": {},
   "outputs": [],
   "source": [
    "x_new = df[[\"Corn_NDVI_2013\"]].to_numpy()"
   ]
  },
  {
   "cell_type": "code",
   "execution_count": 117,
   "id": "ec8386f8",
   "metadata": {},
   "outputs": [],
   "source": [
    "x_new_b = np.c_[np.ones((40, 1)), x_new] # add x0 = 1 to each instance"
   ]
  },
  {
   "cell_type": "code",
   "execution_count": 118,
   "id": "4bf82665",
   "metadata": {},
   "outputs": [],
   "source": [
    "y_predict = x_new_b.dot(w_estimate)          # predict"
   ]
  },
  {
   "cell_type": "code",
   "execution_count": 119,
   "id": "774c85a5",
   "metadata": {},
   "outputs": [
    {
     "data": {
      "image/png": "[encoded data removed]",
      "text/plain": [
       "<Figure size 432x288 with 1 Axes>"
      ]
     },
     "metadata": {
      "needs_background": "light"
     },
     "output_type": "display_data"
    }
   ],
   "source": [
    "plt.plot(x_new, y_predict, \"r-\")\n",
    "plt.plot(X, y, \"b.\")\n",
    "plt.grid()\n",
    "plt.title(\"Line fitting\")\n",
    "plt.xlabel(\"x\")\n",
    "plt.ylabel(\"y\");"
   ]
  },
  {
   "cell_type": "markdown",
   "id": "d0852732",
   "metadata": {},
   "source": [
    "### Finding MSE with Numpy arrays"
   ]
  },
  {
   "cell_type": "code",
   "execution_count": 120,
   "id": "d3ba54be",
   "metadata": {},
   "outputs": [],
   "source": [
    "df['y_predicted'] = y_predict"
   ]
  },
  {
   "cell_type": "code",
   "execution_count": 121,
   "id": "90cf3dd9",
   "metadata": {},
   "outputs": [
    {
     "name": "stdout",
     "output_type": "stream",
     "text": [
      "0.013500868703314253\n"
     ]
    }
   ],
   "source": [
    "def mse(actual, predicted):\n",
    "    actual = np.array(actual)\n",
    "    predicted = np.array(predicted)\n",
    "    differences = np.subtract(actual, predicted)\n",
    "    squared_differences = np.square(differences)\n",
    "    return squared_differences.mean()\n",
    "\n",
    "print(mse(df['Cotton_NDVI_2013'], df['y_predicted']))"
   ]
  },
  {
   "cell_type": "markdown",
   "id": "6f30e26b",
   "metadata": {},
   "source": [
    "### Predicted Cotton_EVI_2013 with our model and plotted"
   ]
  },
  {
   "cell_type": "code",
   "execution_count": 122,
   "id": "a9be5219",
   "metadata": {},
   "outputs": [],
   "source": [
    "model2 = reg.fit(df[[\"Cotton_NDVI_2013\"]],df[[\"Cotton_EVI_2013\"]])"
   ]
  },
  {
   "cell_type": "code",
   "execution_count": 123,
   "id": "55eb6951",
   "metadata": {},
   "outputs": [],
   "source": [
    "b_predict = model2.predict(df[[\"Cotton_NDVI_2013\"]])"
   ]
  },
  {
   "cell_type": "code",
   "execution_count": 124,
   "id": "095bf0ba",
   "metadata": {},
   "outputs": [
    {
     "data": {
      "image/png": "[encoded data removed]",
      "text/plain": [
       "<Figure size 432x288 with 1 Axes>"
      ]
     },
     "metadata": {
      "needs_background": "light"
     },
     "output_type": "display_data"
    }
   ],
   "source": [
    "plt.plot(df['Cotton_NDVI_2013'],df['Cotton_EVI_2013'],  \"b.\")\n",
    "plt.plot(df['Cotton_NDVI_2013'], b_predict, \"g*\")\n",
    "plt.plot(df['Cotton_NDVI_2013'], b_predict, \"r-\")\n",
    "plt.grid()\n",
    "\n",
    "plt.xlabel(\"x\")\n",
    "plt.ylabel(\"y\");"
   ]
  },
  {
   "cell_type": "markdown",
   "id": "9276f132",
   "metadata": {},
   "source": [
    "# MSE and RMSE for Cotton EVI and Cotton NDVI"
   ]
  },
  {
   "cell_type": "code",
   "execution_count": 125,
   "id": "54e2a097",
   "metadata": {},
   "outputs": [
    {
     "data": {
      "text/html": [
       "<div>\n",
       "<style scoped>\n",
       "    .dataframe tbody tr th:only-of-type {\n",
       "        vertical-align: middle;\n",
       "    }\n",
       "\n",
       "    .dataframe tbody tr th {\n",
       "        vertical-align: top;\n",
       "    }\n",
       "\n",
       "    .dataframe thead th {\n",
       "        text-align: right;\n",
       "    }\n",
       "</style>\n",
       "<table border=\"1\" class=\"dataframe\">\n",
       "  <thead>\n",
       "    <tr style=\"text-align: right;\">\n",
       "      <th></th>\n",
       "      <th>Days_Corn</th>\n",
       "      <th>Days_Cotton</th>\n",
       "      <th>Corn_NDVI_2013</th>\n",
       "      <th>Cotton_NDVI_2013</th>\n",
       "      <th>Corn_MSAVI_2013</th>\n",
       "      <th>Cotton_MSAVI_2013</th>\n",
       "      <th>Corn_EVI_2013</th>\n",
       "      <th>Cotton_EVI_2013</th>\n",
       "      <th>Corn_NDVI_2014</th>\n",
       "      <th>Cotton_NDVI_2014</th>\n",
       "      <th>Corn_MSAVI_2014</th>\n",
       "      <th>Cotton_MSAVI_2014</th>\n",
       "      <th>Corn_EVI_2014</th>\n",
       "      <th>Cotton_EVI_2014</th>\n",
       "      <th>y_predicted</th>\n",
       "    </tr>\n",
       "  </thead>\n",
       "  <tbody>\n",
       "    <tr>\n",
       "      <th>0</th>\n",
       "      <td>195</td>\n",
       "      <td>173</td>\n",
       "      <td>0.220787</td>\n",
       "      <td>0.266734</td>\n",
       "      <td>0.138773</td>\n",
       "      <td>0.171675</td>\n",
       "      <td>0.136321</td>\n",
       "      <td>0.168227</td>\n",
       "      <td>0.267668</td>\n",
       "      <td>0.304886</td>\n",
       "      <td>0.169187</td>\n",
       "      <td>0.197476</td>\n",
       "      <td>0.168276</td>\n",
       "      <td>0.195093</td>\n",
       "      <td>0.153929</td>\n",
       "    </tr>\n",
       "    <tr>\n",
       "      <th>1</th>\n",
       "      <td>196</td>\n",
       "      <td>174</td>\n",
       "      <td>0.236955</td>\n",
       "      <td>0.275388</td>\n",
       "      <td>0.147700</td>\n",
       "      <td>0.178417</td>\n",
       "      <td>0.145747</td>\n",
       "      <td>0.175212</td>\n",
       "      <td>0.283176</td>\n",
       "      <td>0.314678</td>\n",
       "      <td>0.179115</td>\n",
       "      <td>0.203764</td>\n",
       "      <td>0.178832</td>\n",
       "      <td>0.201546</td>\n",
       "      <td>0.161742</td>\n",
       "    </tr>\n",
       "    <tr>\n",
       "      <th>2</th>\n",
       "      <td>197</td>\n",
       "      <td>175</td>\n",
       "      <td>0.253122</td>\n",
       "      <td>0.284041</td>\n",
       "      <td>0.156627</td>\n",
       "      <td>0.185160</td>\n",
       "      <td>0.155173</td>\n",
       "      <td>0.182198</td>\n",
       "      <td>0.298683</td>\n",
       "      <td>0.324470</td>\n",
       "      <td>0.189043</td>\n",
       "      <td>0.210052</td>\n",
       "      <td>0.189389</td>\n",
       "      <td>0.207999</td>\n",
       "      <td>0.169555</td>\n",
       "    </tr>\n",
       "    <tr>\n",
       "      <th>3</th>\n",
       "      <td>198</td>\n",
       "      <td>176</td>\n",
       "      <td>0.269290</td>\n",
       "      <td>0.292695</td>\n",
       "      <td>0.165554</td>\n",
       "      <td>0.191902</td>\n",
       "      <td>0.164599</td>\n",
       "      <td>0.189184</td>\n",
       "      <td>0.314191</td>\n",
       "      <td>0.338776</td>\n",
       "      <td>0.198972</td>\n",
       "      <td>0.221653</td>\n",
       "      <td>0.199946</td>\n",
       "      <td>0.220212</td>\n",
       "      <td>0.177368</td>\n",
       "    </tr>\n",
       "    <tr>\n",
       "      <th>4</th>\n",
       "      <td>199</td>\n",
       "      <td>177</td>\n",
       "      <td>0.285457</td>\n",
       "      <td>0.301349</td>\n",
       "      <td>0.174481</td>\n",
       "      <td>0.198645</td>\n",
       "      <td>0.174024</td>\n",
       "      <td>0.196169</td>\n",
       "      <td>0.334603</td>\n",
       "      <td>0.353082</td>\n",
       "      <td>0.211019</td>\n",
       "      <td>0.233255</td>\n",
       "      <td>0.212662</td>\n",
       "      <td>0.232425</td>\n",
       "      <td>0.185181</td>\n",
       "    </tr>\n",
       "  </tbody>\n",
       "</table>\n",
       "</div>"
      ],
      "text/plain": [
       "   Days_Corn  Days_Cotton  Corn_NDVI_2013  Cotton_NDVI_2013  Corn_MSAVI_2013  \\\n",
       "0        195          173        0.220787          0.266734         0.138773   \n",
       "1        196          174        0.236955          0.275388         0.147700   \n",
       "2        197          175        0.253122          0.284041         0.156627   \n",
       "3        198          176        0.269290          0.292695         0.165554   \n",
       "4        199          177        0.285457          0.301349         0.174481   \n",
       "\n",
       "   Cotton_MSAVI_2013  Corn_EVI_2013  Cotton_EVI_2013  Corn_NDVI_2014  \\\n",
       "0           0.171675       0.136321         0.168227        0.267668   \n",
       "1           0.178417       0.145747         0.175212        0.283176   \n",
       "2           0.185160       0.155173         0.182198        0.298683   \n",
       "3           0.191902       0.164599         0.189184        0.314191   \n",
       "4           0.198645       0.174024         0.196169        0.334603   \n",
       "\n",
       "   Cotton_NDVI_2014  Corn_MSAVI_2014  Cotton_MSAVI_2014  Corn_EVI_2014  \\\n",
       "0          0.304886         0.169187           0.197476       0.168276   \n",
       "1          0.314678         0.179115           0.203764       0.178832   \n",
       "2          0.324470         0.189043           0.210052       0.189389   \n",
       "3          0.338776         0.198972           0.221653       0.199946   \n",
       "4          0.353082         0.211019           0.233255       0.212662   \n",
       "\n",
       "   Cotton_EVI_2014  y_predicted  \n",
       "0         0.195093     0.153929  \n",
       "1         0.201546     0.161742  \n",
       "2         0.207999     0.169555  \n",
       "3         0.220212     0.177368  \n",
       "4         0.232425     0.185181  "
      ]
     },
     "execution_count": 125,
     "metadata": {},
     "output_type": "execute_result"
    }
   ],
   "source": [
    "df['y_predicted'] = b_predict\n",
    "df.head()"
   ]
  },
  {
   "cell_type": "code",
   "execution_count": 126,
   "id": "cb66ce3e",
   "metadata": {},
   "outputs": [
    {
     "name": "stdout",
     "output_type": "stream",
     "text": [
      "0.019396278222964074\n"
     ]
    }
   ],
   "source": [
    "mse = mean_squared_error(df['Cotton_NDVI_2013'], df['y_predicted'])\n",
    "print(mse)"
   ]
  },
  {
   "cell_type": "code",
   "execution_count": 127,
   "id": "8756a3bc",
   "metadata": {},
   "outputs": [
    {
     "data": {
      "text/plain": [
       "0.13927052173006343"
      ]
     },
     "execution_count": 127,
     "metadata": {},
     "output_type": "execute_result"
    }
   ],
   "source": [
    "rmse = np.sqrt(mse)\n",
    "rmse"
   ]
  },
  {
   "cell_type": "markdown",
   "id": "435a0621",
   "metadata": {},
   "source": [
    "### Predicted Cotton_MSAVI_2013 with our model and plotted"
   ]
  },
  {
   "cell_type": "code",
   "execution_count": 129,
   "id": "e5476693",
   "metadata": {},
   "outputs": [],
   "source": [
    "model2 = reg.fit(df[[\"Cotton_NDVI_2013\"]],df[[\"Cotton_MSAVI_2013\"]])"
   ]
  },
  {
   "cell_type": "code",
   "execution_count": 130,
   "id": "cf4fa756",
   "metadata": {},
   "outputs": [],
   "source": [
    "cotton_msavi_predict = model2.predict(df[[\"Cotton_NDVI_2013\"]])"
   ]
  },
  {
   "cell_type": "code",
   "execution_count": 131,
   "id": "ee1a08cb",
   "metadata": {
    "scrolled": false
   },
   "outputs": [
    {
     "data": {
      "image/png": "[encoded data removed]",
      "text/plain": [
       "<Figure size 432x288 with 1 Axes>"
      ]
     },
     "metadata": {
      "needs_background": "light"
     },
     "output_type": "display_data"
    }
   ],
   "source": [
    "plt.plot( df['Cotton_NDVI_2013'], df['Cotton_MSAVI_2013'],\"b.\")\n",
    "plt.plot(df['Cotton_NDVI_2013'], cotton_msavi_predict, \"g*\")\n",
    "plt.plot(df['Cotton_NDVI_2013'], cotton_msavi_predict, \"r-\")\n",
    "plt.grid()\n",
    "\n",
    "plt.xlabel(\"x\")\n",
    "plt.ylabel(\"y\");"
   ]
  },
  {
   "cell_type": "markdown",
   "id": "ef02c8ec",
   "metadata": {},
   "source": [
    "### Predicted Cotton_EVI_2014 with our model and plotted"
   ]
  },
  {
   "cell_type": "code",
   "execution_count": 132,
   "id": "939c7d3e",
   "metadata": {},
   "outputs": [],
   "source": [
    "model2 = reg.fit(df[[\"Cotton_NDVI_2013\"]],df[[\"Cotton_EVI_2014\"]])"
   ]
  },
  {
   "cell_type": "code",
   "execution_count": 133,
   "id": "da35540e",
   "metadata": {},
   "outputs": [],
   "source": [
    "cotton_evi_predict = model2.predict(df[[\"Cotton_NDVI_2013\"]])"
   ]
  },
  {
   "cell_type": "code",
   "execution_count": 134,
   "id": "a5f550a6",
   "metadata": {},
   "outputs": [
    {
     "data": {
      "image/png": "[encoded data removed]",
      "text/plain": [
       "<Figure size 432x288 with 1 Axes>"
      ]
     },
     "metadata": {
      "needs_background": "light"
     },
     "output_type": "display_data"
    }
   ],
   "source": [
    "plt.plot(df['Cotton_NDVI_2013'],df['Cotton_EVI_2014'],  \"b.\")\n",
    "plt.plot(df['Cotton_NDVI_2013'], cotton_evi_predict, \"g*\")\n",
    "plt.plot(df['Cotton_NDVI_2013'], cotton_evi_predict, \"r-\")\n",
    "plt.grid()\n",
    "\n",
    "plt.xlabel(\"x\")\n",
    "plt.ylabel(\"y\");"
   ]
  },
  {
   "cell_type": "markdown",
   "id": "f50013f7",
   "metadata": {},
   "source": [
    "### Predicted Cotton_MSAVI_2014 with our model and plotted"
   ]
  },
  {
   "cell_type": "code",
   "execution_count": 135,
   "id": "196e3c56",
   "metadata": {},
   "outputs": [],
   "source": [
    "model2 = reg.fit(df[[\"Cotton_NDVI_2013\"]],df[[\"Cotton_MSAVI_2014\"]])"
   ]
  },
  {
   "cell_type": "code",
   "execution_count": 136,
   "id": "468e7127",
   "metadata": {},
   "outputs": [],
   "source": [
    "cotton_msavi_predict = model2.predict(df[[\"Cotton_NDVI_2013\"]])"
   ]
  },
  {
   "cell_type": "code",
   "execution_count": 137,
   "id": "713a8ec4",
   "metadata": {},
   "outputs": [
    {
     "data": {
      "image/png": "[encoded data removed]",
      "text/plain": [
       "<Figure size 432x288 with 1 Axes>"
      ]
     },
     "metadata": {
      "needs_background": "light"
     },
     "output_type": "display_data"
    }
   ],
   "source": [
    "plt.plot(df[\"Cotton_NDVI_2013\"],df[\"Cotton_MSAVI_2014\"],  \"b.\")\n",
    "plt.plot(df[\"Cotton_NDVI_2013\"], cotton_msavi_predict, \"g*\")\n",
    "plt.plot(df[\"Cotton_NDVI_2013\"], cotton_msavi_predict, \"r-\")\n",
    "plt.grid()\n",
    "\n",
    "plt.xlabel(\"Cotton_NDVI_2013\")\n",
    "plt.ylabel(\"Cotton_MSAVI_2014\");"
   ]
  },
  {
   "cell_type": "markdown",
   "id": "4552b454",
   "metadata": {},
   "source": [
    "# Conclusion\n",
    "\n",
    "### In this project we did linear regression both using Normal Equation and Scikit Learn. First of all we fit the data with days and NDVI created our model. Then we used curve fitting for estimate EVI, MSAVI values from 2013 and 2014 years using the NDVI and plotted the values and findings. We saw that using Scikit Learn is easier than using Normal Equation especially dealing with huge datasets. Then we found the errors with doing manually and Scikit. For Cotton MSE with Scikit learn is bigger then our defined function but for corn we determined the MSE values are same. Hence, our model with scikit learn overall gives the better solution than Normal Equation. "
   ]
  }
 ],
 "metadata": {
  "kernelspec": {
   "display_name": "Python 3 (ipykernel)",
   "language": "python",
   "name": "python3"
  },
  "language_info": {
   "codemirror_mode": {
    "name": "ipython",
    "version": 3
   },
   "file_extension": ".py",
   "mimetype": "text/x-python",
   "name": "python",
   "nbconvert_exporter": "python",
   "pygments_lexer": "ipython3",
   "version": "3.9.12"
  }
 },
 "nbformat": 4,
 "nbformat_minor": 5
}
