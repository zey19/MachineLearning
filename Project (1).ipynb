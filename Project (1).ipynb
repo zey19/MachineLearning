{
 "cells": [
  {
   "cell_type": "code",
   "execution_count": 41,
   "id": "963fab41",
   "metadata": {},
   "outputs": [],
   "source": [
    "# Import the necessary modules\n",
    "from osgeo import gdal\n",
    "import numpy as np\n",
    "import pandas as pd"
   ]
  },
  {
   "cell_type": "code",
   "execution_count": 42,
   "id": "7c538ff6",
   "metadata": {},
   "outputs": [],
   "source": [
    "# Open the GeoTIFF files using GDAL\n",
    "datasetTrainingGT = gdal.Open('S2A_MSIL1C_20220516_Train_GT.tif')"
   ]
  },
  {
   "cell_type": "code",
   "execution_count": 43,
   "id": "85369027",
   "metadata": {},
   "outputs": [
    {
     "data": {
      "text/plain": [
       "<osgeo.gdal.Dataset; proxy of <Swig Object of type 'GDALDatasetShadow *' at 0x00000245F19521E0> >"
      ]
     },
     "execution_count": 43,
     "metadata": {},
     "output_type": "execute_result"
    }
   ],
   "source": [
    "datasetTrainingGT"
   ]
  },
  {
   "cell_type": "code",
   "execution_count": 44,
   "id": "8f4a59df",
   "metadata": {},
   "outputs": [],
   "source": [
    "# Read the data from the first GeoTIFF file into a NumPy array\n",
    "trainGT2d = datasetTrainingGT.ReadAsArray()\n",
    "trainGT2d = np.swapaxes(trainGT2d, 0, 1)\n",
    "# Convert the 2-dimensional NumPy arrays into 2-dimensional arrays with rows and columns\n",
    "trainGT1d = trainGT2d.reshape(trainGT2d.shape[0] * trainGT2d.shape[1], 1)"
   ]
  },
  {
   "cell_type": "code",
   "execution_count": 45,
   "id": "9841414c",
   "metadata": {},
   "outputs": [],
   "source": [
    "# Convert the combined array into a Pandas DataFrame\n",
    "dfTrainLabels = pd.DataFrame(trainGT1d)"
   ]
  },
  {
   "cell_type": "code",
   "execution_count": 46,
   "id": "0eb7de48",
   "metadata": {},
   "outputs": [],
   "source": [
    "# Export the DataFrame as a CSV file\n",
    "# dfTrainLabels.to_csv('train.csv', index=False)\n",
    "np.save('train_gt.npy', trainGT1d)"
   ]
  },
  {
   "cell_type": "code",
   "execution_count": 47,
   "id": "444c1ccd",
   "metadata": {},
   "outputs": [],
   "source": [
    "datasetTraining = gdal.Open('S2A_MSIL1C_20220516_TrainingData.tif')"
   ]
  },
  {
   "cell_type": "code",
   "execution_count": 48,
   "id": "086d69d8",
   "metadata": {},
   "outputs": [
    {
     "data": {
      "text/plain": [
       "<osgeo.gdal.Dataset; proxy of <Swig Object of type 'GDALDatasetShadow *' at 0x0000024586933180> >"
      ]
     },
     "execution_count": 48,
     "metadata": {},
     "output_type": "execute_result"
    }
   ],
   "source": [
    "datasetTraining"
   ]
  },
  {
   "cell_type": "code",
   "execution_count": 49,
   "id": "a128863e",
   "metadata": {},
   "outputs": [],
   "source": [
    "# Read the data from the first GeoTIFF file into a NumPy array\n",
    "dataTraing = datasetTraining.ReadAsArray()\n",
    "dataTraing = np.swapaxes(dataTraing, 0, 2)\n",
    "# Convert the 2-dimensional NumPy arrays into 2-dimensional arrays with rows and columns\n",
    "dataTraining1d = dataTraing.reshape(dataTraing.shape[0] * dataTraing.shape[1], -1)\n",
    "dfTrain = pd.DataFrame(dataTraining1d)\n",
    "\n",
    "final_data = pd.concat([dfTrainLabels, dfTrain])\n",
    "\n",
    "train_label_data = pd.concat([dfTrainLabels, dfTrain], axis=1)\n",
    "train_label_data.columns=['Code', 'Blue', 'Green', 'Red', 'NIR']\n",
    "train_label_data.to_csv('train.csv')\n",
    "\n",
    "np.save('train.npy', dataTraining1d)"
   ]
  },
  {
   "cell_type": "code",
   "execution_count": 50,
   "id": "2c560384",
   "metadata": {},
   "outputs": [],
   "source": [
    "datasetTestGT = gdal.Open('S2B_MSIL1C_20220528_Test.tif')"
   ]
  },
  {
   "cell_type": "code",
   "execution_count": 51,
   "id": "2e379bb2",
   "metadata": {},
   "outputs": [
    {
     "data": {
      "text/plain": [
       "<osgeo.gdal.Dataset; proxy of <Swig Object of type 'GDALDatasetShadow *' at 0x000002459C3574E0> >"
      ]
     },
     "execution_count": 51,
     "metadata": {},
     "output_type": "execute_result"
    }
   ],
   "source": [
    "datasetTestGT"
   ]
  },
  {
   "cell_type": "code",
   "execution_count": 52,
   "id": "a9fb5053",
   "metadata": {},
   "outputs": [],
   "source": [
    "# Read the data from the first GeoTIFF file into a NumPy array\n",
    "testGT2d = datasetTestGT.ReadAsArray()\n",
    "testGT2d = testGT2d[1:, :]\n",
    "testGT2d = np.swapaxes(testGT2d, 0, 1)\n",
    "# Convert the 2-dimensional NumPy arrays into 2-dimensional arrays with rows and columns\n",
    "testGT1d = testGT2d.reshape(testGT2d.shape[0] * testGT2d.shape[1], -1)"
   ]
  },
  {
   "cell_type": "code",
   "execution_count": 53,
   "id": "77ca06a3",
   "metadata": {},
   "outputs": [],
   "source": [
    "# Convert the combined array into a Pandas DataFrame\n",
    "df = pd.DataFrame(testGT1d)"
   ]
  },
  {
   "cell_type": "code",
   "execution_count": 55,
   "id": "088514e6",
   "metadata": {},
   "outputs": [],
   "source": [
    "datasetTest = gdal.Open('S2B_MSIL1C_20220528_Test.tif')"
   ]
  },
  {
   "cell_type": "code",
   "execution_count": 54,
   "id": "242fa189",
   "metadata": {},
   "outputs": [],
   "source": [
    "# Export the DataFrame as a CSV file\n",
    "df.to_csv('test_gt.csv')\n",
    "np.save('test_gt.npy', testGT1d)"
   ]
  },
  {
   "cell_type": "code",
   "execution_count": 57,
   "id": "62e012e9",
   "metadata": {},
   "outputs": [],
   "source": [
    "# Read the data from the first GeoTIFF file into a NumPy array\n",
    "dataTest2d = datasetTest.ReadAsArray()\n",
    "dataTest2d = np.swapaxes(dataTest2d, 0, 2)\n",
    "# Convert the 2-dimensional NumPy arrays into 2-dimensional arrays with rows and columns\n",
    "dataTest1d = dataTest2d.reshape(dataTest2d.shape[0] * dataTest2d.shape[1], -1)\n",
    "np.save('test_all.npy', dataTest1d)\n",
    "# Convert the combined array into a Pandas DataFrame\n",
    "dfTest = pd.DataFrame(dataTest1d)\n",
    "dfTest.columns=['Blue', 'Green', 'Red', 'NIR']\n",
    "# Export the DataFrame as a CSV file\n",
    "dfTest.to_csv('test.csv')"
   ]
  },
  {
   "cell_type": "code",
   "execution_count": null,
   "id": "98a5ae2c",
   "metadata": {},
   "outputs": [],
   "source": [
    "len(testGT1d)"
   ]
  },
  {
   "cell_type": "code",
   "execution_count": null,
   "id": "bfc2abe1",
   "metadata": {},
   "outputs": [],
   "source": [
    "df = pd.read_csv('test_gt.csv')\n",
    "df.shape"
   ]
  },
  {
   "cell_type": "code",
   "execution_count": 816,
   "id": "300c02f6",
   "metadata": {},
   "outputs": [],
   "source": [
    "from sklearn.model_selection import train_test_split\n",
    "X_Test, X_Val, y_test, y_val = train_test_split(dataTraining1d, testGT1d, stratify=testGT1d, test_size=0.30)"
   ]
  },
  {
   "cell_type": "markdown",
   "id": "9bf33fd7",
   "metadata": {},
   "source": [
    "## Read csv files"
   ]
  },
  {
   "cell_type": "code",
   "execution_count": 820,
   "id": "c5e72dd1",
   "metadata": {},
   "outputs": [],
   "source": [
    "from sklearn.model_selection import cross_val_score\n",
    "from sklearn.neighbors import KNeighborsClassifier\n",
    "from sklearn.metrics import accuracy_score, confusion_matrix, ConfusionMatrixDisplay, classification_report"
   ]
  },
  {
   "cell_type": "code",
   "execution_count": 821,
   "id": "97111d63",
   "metadata": {},
   "outputs": [],
   "source": [
    "import pandas as pd\n",
    "import numpy as np\n",
    "\n",
    "df = pd.read_csv('train.csv')\n",
    "df_test = pd.read_csv('test.csv')"
   ]
  },
  {
   "cell_type": "code",
   "execution_count": 822,
   "id": "a1f6b3c2",
   "metadata": {},
   "outputs": [],
   "source": [
    "# df = df[:10000]\n",
    "# df_test = df_test[:10000]"
   ]
  },
  {
   "cell_type": "code",
   "execution_count": 823,
   "id": "3f015255",
   "metadata": {},
   "outputs": [
    {
     "data": {
      "text/plain": [
       "(967005, 6)"
      ]
     },
     "execution_count": 823,
     "metadata": {},
     "output_type": "execute_result"
    }
   ],
   "source": [
    "df.shape"
   ]
  },
  {
   "cell_type": "code",
   "execution_count": 824,
   "id": "03ac9712",
   "metadata": {},
   "outputs": [
    {
     "data": {
      "text/plain": [
       "array([10,  0, 50, 30, 90, 80, 60, 20, 40], dtype=int64)"
      ]
     },
     "execution_count": 824,
     "metadata": {},
     "output_type": "execute_result"
    }
   ],
   "source": [
    "df['Code'].unique()"
   ]
  },
  {
   "cell_type": "code",
   "execution_count": 825,
   "id": "c689aa9c",
   "metadata": {},
   "outputs": [
    {
     "data": {
      "text/html": [
       "<div>\n",
       "<style scoped>\n",
       "    .dataframe tbody tr th:only-of-type {\n",
       "        vertical-align: middle;\n",
       "    }\n",
       "\n",
       "    .dataframe tbody tr th {\n",
       "        vertical-align: top;\n",
       "    }\n",
       "\n",
       "    .dataframe thead th {\n",
       "        text-align: right;\n",
       "    }\n",
       "</style>\n",
       "<table border=\"1\" class=\"dataframe\">\n",
       "  <thead>\n",
       "    <tr style=\"text-align: right;\">\n",
       "      <th></th>\n",
       "      <th>Id</th>\n",
       "      <th>Code</th>\n",
       "      <th>Blue</th>\n",
       "      <th>Green</th>\n",
       "      <th>Red</th>\n",
       "      <th>NIR</th>\n",
       "    </tr>\n",
       "  </thead>\n",
       "  <tbody>\n",
       "    <tr>\n",
       "      <th>0</th>\n",
       "      <td>0</td>\n",
       "      <td>10</td>\n",
       "      <td>0</td>\n",
       "      <td>0</td>\n",
       "      <td>0</td>\n",
       "      <td>0</td>\n",
       "    </tr>\n",
       "    <tr>\n",
       "      <th>1</th>\n",
       "      <td>1</td>\n",
       "      <td>10</td>\n",
       "      <td>1997</td>\n",
       "      <td>1982</td>\n",
       "      <td>1860</td>\n",
       "      <td>3672</td>\n",
       "    </tr>\n",
       "    <tr>\n",
       "      <th>2</th>\n",
       "      <td>2</td>\n",
       "      <td>10</td>\n",
       "      <td>1950</td>\n",
       "      <td>1906</td>\n",
       "      <td>1776</td>\n",
       "      <td>3335</td>\n",
       "    </tr>\n",
       "    <tr>\n",
       "      <th>3</th>\n",
       "      <td>3</td>\n",
       "      <td>10</td>\n",
       "      <td>1933</td>\n",
       "      <td>1886</td>\n",
       "      <td>1742</td>\n",
       "      <td>3390</td>\n",
       "    </tr>\n",
       "    <tr>\n",
       "      <th>4</th>\n",
       "      <td>4</td>\n",
       "      <td>10</td>\n",
       "      <td>2162</td>\n",
       "      <td>2035</td>\n",
       "      <td>2173</td>\n",
       "      <td>3605</td>\n",
       "    </tr>\n",
       "  </tbody>\n",
       "</table>\n",
       "</div>"
      ],
      "text/plain": [
       "   Id  Code  Blue  Green   Red   NIR\n",
       "0   0    10     0      0     0     0\n",
       "1   1    10  1997   1982  1860  3672\n",
       "2   2    10  1950   1906  1776  3335\n",
       "3   3    10  1933   1886  1742  3390\n",
       "4   4    10  2162   2035  2173  3605"
      ]
     },
     "execution_count": 825,
     "metadata": {},
     "output_type": "execute_result"
    }
   ],
   "source": [
    "df.head()"
   ]
  },
  {
   "cell_type": "code",
   "execution_count": 826,
   "id": "6e310c78",
   "metadata": {},
   "outputs": [
    {
     "data": {
      "text/html": [
       "<div>\n",
       "<style scoped>\n",
       "    .dataframe tbody tr th:only-of-type {\n",
       "        vertical-align: middle;\n",
       "    }\n",
       "\n",
       "    .dataframe tbody tr th {\n",
       "        vertical-align: top;\n",
       "    }\n",
       "\n",
       "    .dataframe thead th {\n",
       "        text-align: right;\n",
       "    }\n",
       "</style>\n",
       "<table border=\"1\" class=\"dataframe\">\n",
       "  <thead>\n",
       "    <tr style=\"text-align: right;\">\n",
       "      <th></th>\n",
       "      <th>Id</th>\n",
       "      <th>Code</th>\n",
       "      <th>Blue</th>\n",
       "      <th>Green</th>\n",
       "      <th>Red</th>\n",
       "      <th>NIR</th>\n",
       "    </tr>\n",
       "  </thead>\n",
       "  <tbody>\n",
       "    <tr>\n",
       "      <th>0</th>\n",
       "      <td>0</td>\n",
       "      <td>10</td>\n",
       "      <td>0.0000</td>\n",
       "      <td>0.0000</td>\n",
       "      <td>0.0000</td>\n",
       "      <td>0.0000</td>\n",
       "    </tr>\n",
       "    <tr>\n",
       "      <th>1</th>\n",
       "      <td>1</td>\n",
       "      <td>10</td>\n",
       "      <td>0.1997</td>\n",
       "      <td>0.1982</td>\n",
       "      <td>0.1860</td>\n",
       "      <td>0.3672</td>\n",
       "    </tr>\n",
       "    <tr>\n",
       "      <th>2</th>\n",
       "      <td>2</td>\n",
       "      <td>10</td>\n",
       "      <td>0.1950</td>\n",
       "      <td>0.1906</td>\n",
       "      <td>0.1776</td>\n",
       "      <td>0.3335</td>\n",
       "    </tr>\n",
       "    <tr>\n",
       "      <th>3</th>\n",
       "      <td>3</td>\n",
       "      <td>10</td>\n",
       "      <td>0.1933</td>\n",
       "      <td>0.1886</td>\n",
       "      <td>0.1742</td>\n",
       "      <td>0.3390</td>\n",
       "    </tr>\n",
       "    <tr>\n",
       "      <th>4</th>\n",
       "      <td>4</td>\n",
       "      <td>10</td>\n",
       "      <td>0.2162</td>\n",
       "      <td>0.2035</td>\n",
       "      <td>0.2173</td>\n",
       "      <td>0.3605</td>\n",
       "    </tr>\n",
       "  </tbody>\n",
       "</table>\n",
       "</div>"
      ],
      "text/plain": [
       "   Id  Code    Blue   Green     Red     NIR\n",
       "0   0    10  0.0000  0.0000  0.0000  0.0000\n",
       "1   1    10  0.1997  0.1982  0.1860  0.3672\n",
       "2   2    10  0.1950  0.1906  0.1776  0.3335\n",
       "3   3    10  0.1933  0.1886  0.1742  0.3390\n",
       "4   4    10  0.2162  0.2035  0.2173  0.3605"
      ]
     },
     "execution_count": 826,
     "metadata": {},
     "output_type": "execute_result"
    }
   ],
   "source": [
    "df[['Blue','Green','Red','NIR']] = df[['Blue','Green','Red','NIR']].div(10000)\n",
    "df.head()"
   ]
  },
  {
   "cell_type": "code",
   "execution_count": 827,
   "id": "87fe984c",
   "metadata": {},
   "outputs": [],
   "source": [
    "df_test[['Blue','Green','Red','NIR']] = df_test[['Blue','Green','Red','NIR']].div(10000)"
   ]
  },
  {
   "cell_type": "code",
   "execution_count": 828,
   "id": "685b79e0",
   "metadata": {},
   "outputs": [
    {
     "data": {
      "text/plain": [
       "(4620309, 5)"
      ]
     },
     "execution_count": 828,
     "metadata": {},
     "output_type": "execute_result"
    }
   ],
   "source": [
    "df_test.shape"
   ]
  },
  {
   "cell_type": "code",
   "execution_count": 829,
   "id": "4df90800",
   "metadata": {},
   "outputs": [
    {
     "data": {
      "text/html": [
       "<div>\n",
       "<style scoped>\n",
       "    .dataframe tbody tr th:only-of-type {\n",
       "        vertical-align: middle;\n",
       "    }\n",
       "\n",
       "    .dataframe tbody tr th {\n",
       "        vertical-align: top;\n",
       "    }\n",
       "\n",
       "    .dataframe thead th {\n",
       "        text-align: right;\n",
       "    }\n",
       "</style>\n",
       "<table border=\"1\" class=\"dataframe\">\n",
       "  <thead>\n",
       "    <tr style=\"text-align: right;\">\n",
       "      <th></th>\n",
       "      <th>Id</th>\n",
       "      <th>Blue</th>\n",
       "      <th>Green</th>\n",
       "      <th>Red</th>\n",
       "      <th>NIR</th>\n",
       "    </tr>\n",
       "  </thead>\n",
       "  <tbody>\n",
       "    <tr>\n",
       "      <th>0</th>\n",
       "      <td>0</td>\n",
       "      <td>0.0000</td>\n",
       "      <td>0.0000</td>\n",
       "      <td>0.0000</td>\n",
       "      <td>0.0000</td>\n",
       "    </tr>\n",
       "    <tr>\n",
       "      <th>1</th>\n",
       "      <td>1</td>\n",
       "      <td>0.1938</td>\n",
       "      <td>0.1880</td>\n",
       "      <td>0.1683</td>\n",
       "      <td>0.3362</td>\n",
       "    </tr>\n",
       "    <tr>\n",
       "      <th>2</th>\n",
       "      <td>2</td>\n",
       "      <td>0.1943</td>\n",
       "      <td>0.1874</td>\n",
       "      <td>0.1661</td>\n",
       "      <td>0.3388</td>\n",
       "    </tr>\n",
       "    <tr>\n",
       "      <th>3</th>\n",
       "      <td>3</td>\n",
       "      <td>0.1959</td>\n",
       "      <td>0.1876</td>\n",
       "      <td>0.1690</td>\n",
       "      <td>0.3354</td>\n",
       "    </tr>\n",
       "    <tr>\n",
       "      <th>4</th>\n",
       "      <td>4</td>\n",
       "      <td>0.1943</td>\n",
       "      <td>0.1873</td>\n",
       "      <td>0.1696</td>\n",
       "      <td>0.3305</td>\n",
       "    </tr>\n",
       "  </tbody>\n",
       "</table>\n",
       "</div>"
      ],
      "text/plain": [
       "   Id    Blue   Green     Red     NIR\n",
       "0   0  0.0000  0.0000  0.0000  0.0000\n",
       "1   1  0.1938  0.1880  0.1683  0.3362\n",
       "2   2  0.1943  0.1874  0.1661  0.3388\n",
       "3   3  0.1959  0.1876  0.1690  0.3354\n",
       "4   4  0.1943  0.1873  0.1696  0.3305"
      ]
     },
     "execution_count": 829,
     "metadata": {},
     "output_type": "execute_result"
    }
   ],
   "source": [
    "df_test.head()"
   ]
  },
  {
   "cell_type": "code",
   "execution_count": 830,
   "id": "d32a5a2e",
   "metadata": {},
   "outputs": [
    {
     "data": {
      "text/plain": [
       "(967005, 6)"
      ]
     },
     "execution_count": 830,
     "metadata": {},
     "output_type": "execute_result"
    }
   ],
   "source": [
    "df.shape"
   ]
  },
  {
   "cell_type": "markdown",
   "id": "c6cda9d8",
   "metadata": {},
   "source": [
    "## z_score"
   ]
  },
  {
   "cell_type": "code",
   "execution_count": 102,
   "id": "93bbc9c1",
   "metadata": {},
   "outputs": [],
   "source": [
    "columns = ['Blue','Green','Red','NIR']"
   ]
  },
  {
   "cell_type": "code",
   "execution_count": 47,
   "id": "59506de8",
   "metadata": {},
   "outputs": [],
   "source": [
    "from scipy.stats import norm\n",
    "from scipy.stats import multivariate_normal as mn\n",
    "\n",
    "columns = ['Blue','Green','Red','NIR']\n",
    "\n",
    "\n",
    "# def z_score(df, threshold=1):\n",
    "#     mean, std = np.mean(df), np.std(df)\n",
    "# #     z_score = np.abs((df - mean) / std)\n",
    "#     good = z_score < threshold\n",
    "#     print(f\"z-score of {threshold} corresponds to a prob of {100 * 2 * norm.sf(3):0.2f}%\")\n",
    "#     print(f\"Rejection {(~good).sum()} points\")\n",
    "#     z_score = np.abs(zscore(df))\n",
    "#     df[(z_score < threshold).all(axis=1)]\n",
    "#     return df\n",
    "\n",
    "\n",
    "def z_score(df,columns,threshold = 1):\n",
    "#     Calculate the Z-score for each value in the selected columns:\n",
    "    for column in columns:\n",
    "        column_zscore = (df[column] - df[column].mean())/df[column].std(ddof=0)\n",
    "        df[f\"{column}_zscore\"] = column_zscore\n",
    "#     Create a boolean mask to identify the outliers:\n",
    "    outliers_mask = (df[f\"{column}_zscore\"] > threshold) | (df[f\"{column}_zscore\"] < -threshold)\n",
    "    \n",
    "#     Remove the outliers from the DataFrame:\n",
    "    df = df[~outliers_mask]\n",
    "    print(df.shape)\n",
    "    return df"
   ]
  },
  {
   "cell_type": "code",
   "execution_count": 48,
   "id": "5633e79d",
   "metadata": {},
   "outputs": [
    {
     "name": "stdout",
     "output_type": "stream",
     "text": [
      "(749553, 10)\n"
     ]
    }
   ],
   "source": [
    "df =  z_score(df,columns)"
   ]
  },
  {
   "cell_type": "code",
   "execution_count": 121,
   "id": "455e79d3",
   "metadata": {},
   "outputs": [
    {
     "data": {
      "text/plain": [
       "(749553, 10)"
      ]
     },
     "execution_count": 121,
     "metadata": {},
     "output_type": "execute_result"
    }
   ],
   "source": [
    "df.shape"
   ]
  },
  {
   "cell_type": "code",
   "execution_count": 122,
   "id": "61533bca",
   "metadata": {},
   "outputs": [
    {
     "data": {
      "text/html": [
       "<div>\n",
       "<style scoped>\n",
       "    .dataframe tbody tr th:only-of-type {\n",
       "        vertical-align: middle;\n",
       "    }\n",
       "\n",
       "    .dataframe tbody tr th {\n",
       "        vertical-align: top;\n",
       "    }\n",
       "\n",
       "    .dataframe thead th {\n",
       "        text-align: right;\n",
       "    }\n",
       "</style>\n",
       "<table border=\"1\" class=\"dataframe\">\n",
       "  <thead>\n",
       "    <tr style=\"text-align: right;\">\n",
       "      <th></th>\n",
       "      <th>Id</th>\n",
       "      <th>Code</th>\n",
       "      <th>Blue</th>\n",
       "      <th>Green</th>\n",
       "      <th>Red</th>\n",
       "      <th>NIR</th>\n",
       "      <th>Blue_zscore</th>\n",
       "      <th>Green_zscore</th>\n",
       "      <th>Red_zscore</th>\n",
       "      <th>NIR_zscore</th>\n",
       "    </tr>\n",
       "  </thead>\n",
       "  <tbody>\n",
       "    <tr>\n",
       "      <th>2</th>\n",
       "      <td>2</td>\n",
       "      <td>10</td>\n",
       "      <td>0.1950</td>\n",
       "      <td>0.1906</td>\n",
       "      <td>0.1776</td>\n",
       "      <td>0.3335</td>\n",
       "      <td>-1.356239</td>\n",
       "      <td>-0.939508</td>\n",
       "      <td>-0.806083</td>\n",
       "      <td>0.825154</td>\n",
       "    </tr>\n",
       "    <tr>\n",
       "      <th>3</th>\n",
       "      <td>3</td>\n",
       "      <td>10</td>\n",
       "      <td>0.1933</td>\n",
       "      <td>0.1886</td>\n",
       "      <td>0.1742</td>\n",
       "      <td>0.3390</td>\n",
       "      <td>-1.405272</td>\n",
       "      <td>-0.989215</td>\n",
       "      <td>-0.866024</td>\n",
       "      <td>0.887137</td>\n",
       "    </tr>\n",
       "    <tr>\n",
       "      <th>6</th>\n",
       "      <td>6</td>\n",
       "      <td>10</td>\n",
       "      <td>0.1970</td>\n",
       "      <td>0.1832</td>\n",
       "      <td>0.1841</td>\n",
       "      <td>0.3288</td>\n",
       "      <td>-1.298553</td>\n",
       "      <td>-1.123425</td>\n",
       "      <td>-0.691489</td>\n",
       "      <td>0.772187</td>\n",
       "    </tr>\n",
       "    <tr>\n",
       "      <th>7</th>\n",
       "      <td>7</td>\n",
       "      <td>10</td>\n",
       "      <td>0.1854</td>\n",
       "      <td>0.1820</td>\n",
       "      <td>0.1584</td>\n",
       "      <td>0.3102</td>\n",
       "      <td>-1.633130</td>\n",
       "      <td>-1.153249</td>\n",
       "      <td>-1.144574</td>\n",
       "      <td>0.562573</td>\n",
       "    </tr>\n",
       "    <tr>\n",
       "      <th>8</th>\n",
       "      <td>8</td>\n",
       "      <td>10</td>\n",
       "      <td>0.1878</td>\n",
       "      <td>0.1830</td>\n",
       "      <td>0.1667</td>\n",
       "      <td>0.3240</td>\n",
       "      <td>-1.563907</td>\n",
       "      <td>-1.128395</td>\n",
       "      <td>-0.998247</td>\n",
       "      <td>0.718093</td>\n",
       "    </tr>\n",
       "  </tbody>\n",
       "</table>\n",
       "</div>"
      ],
      "text/plain": [
       "   Id  Code    Blue   Green     Red     NIR  Blue_zscore  Green_zscore  \\\n",
       "2   2    10  0.1950  0.1906  0.1776  0.3335    -1.356239     -0.939508   \n",
       "3   3    10  0.1933  0.1886  0.1742  0.3390    -1.405272     -0.989215   \n",
       "6   6    10  0.1970  0.1832  0.1841  0.3288    -1.298553     -1.123425   \n",
       "7   7    10  0.1854  0.1820  0.1584  0.3102    -1.633130     -1.153249   \n",
       "8   8    10  0.1878  0.1830  0.1667  0.3240    -1.563907     -1.128395   \n",
       "\n",
       "   Red_zscore  NIR_zscore  \n",
       "2   -0.806083    0.825154  \n",
       "3   -0.866024    0.887137  \n",
       "6   -0.691489    0.772187  \n",
       "7   -1.144574    0.562573  \n",
       "8   -0.998247    0.718093  "
      ]
     },
     "execution_count": 122,
     "metadata": {},
     "output_type": "execute_result"
    }
   ],
   "source": [
    "df.head()"
   ]
  },
  {
   "cell_type": "code",
   "execution_count": 123,
   "id": "b87b32fc",
   "metadata": {},
   "outputs": [],
   "source": [
    "df = df.drop(['Blue_zscore','Green_zscore','Red_zscore','NIR_zscore'], axis=1)"
   ]
  },
  {
   "cell_type": "code",
   "execution_count": 124,
   "id": "07e6fc04",
   "metadata": {},
   "outputs": [
    {
     "data": {
      "text/plain": [
       "(749553, 6)"
      ]
     },
     "execution_count": 124,
     "metadata": {},
     "output_type": "execute_result"
    }
   ],
   "source": [
    "df.shape"
   ]
  },
  {
   "cell_type": "code",
   "execution_count": 125,
   "id": "45cf5c00",
   "metadata": {},
   "outputs": [
    {
     "data": {
      "text/html": [
       "<div>\n",
       "<style scoped>\n",
       "    .dataframe tbody tr th:only-of-type {\n",
       "        vertical-align: middle;\n",
       "    }\n",
       "\n",
       "    .dataframe tbody tr th {\n",
       "        vertical-align: top;\n",
       "    }\n",
       "\n",
       "    .dataframe thead th {\n",
       "        text-align: right;\n",
       "    }\n",
       "</style>\n",
       "<table border=\"1\" class=\"dataframe\">\n",
       "  <thead>\n",
       "    <tr style=\"text-align: right;\">\n",
       "      <th></th>\n",
       "      <th>Id</th>\n",
       "      <th>Code</th>\n",
       "      <th>Blue</th>\n",
       "      <th>Green</th>\n",
       "      <th>Red</th>\n",
       "      <th>NIR</th>\n",
       "    </tr>\n",
       "  </thead>\n",
       "  <tbody>\n",
       "    <tr>\n",
       "      <th>2</th>\n",
       "      <td>2</td>\n",
       "      <td>10</td>\n",
       "      <td>0.1950</td>\n",
       "      <td>0.1906</td>\n",
       "      <td>0.1776</td>\n",
       "      <td>0.3335</td>\n",
       "    </tr>\n",
       "    <tr>\n",
       "      <th>3</th>\n",
       "      <td>3</td>\n",
       "      <td>10</td>\n",
       "      <td>0.1933</td>\n",
       "      <td>0.1886</td>\n",
       "      <td>0.1742</td>\n",
       "      <td>0.3390</td>\n",
       "    </tr>\n",
       "    <tr>\n",
       "      <th>6</th>\n",
       "      <td>6</td>\n",
       "      <td>10</td>\n",
       "      <td>0.1970</td>\n",
       "      <td>0.1832</td>\n",
       "      <td>0.1841</td>\n",
       "      <td>0.3288</td>\n",
       "    </tr>\n",
       "    <tr>\n",
       "      <th>7</th>\n",
       "      <td>7</td>\n",
       "      <td>10</td>\n",
       "      <td>0.1854</td>\n",
       "      <td>0.1820</td>\n",
       "      <td>0.1584</td>\n",
       "      <td>0.3102</td>\n",
       "    </tr>\n",
       "    <tr>\n",
       "      <th>8</th>\n",
       "      <td>8</td>\n",
       "      <td>10</td>\n",
       "      <td>0.1878</td>\n",
       "      <td>0.1830</td>\n",
       "      <td>0.1667</td>\n",
       "      <td>0.3240</td>\n",
       "    </tr>\n",
       "  </tbody>\n",
       "</table>\n",
       "</div>"
      ],
      "text/plain": [
       "   Id  Code    Blue   Green     Red     NIR\n",
       "2   2    10  0.1950  0.1906  0.1776  0.3335\n",
       "3   3    10  0.1933  0.1886  0.1742  0.3390\n",
       "6   6    10  0.1970  0.1832  0.1841  0.3288\n",
       "7   7    10  0.1854  0.1820  0.1584  0.3102\n",
       "8   8    10  0.1878  0.1830  0.1667  0.3240"
      ]
     },
     "execution_count": 125,
     "metadata": {},
     "output_type": "execute_result"
    }
   ],
   "source": [
    "df.head()"
   ]
  },
  {
   "cell_type": "markdown",
   "id": "612decc4",
   "metadata": {},
   "source": [
    "# IQR"
   ]
  },
  {
   "cell_type": "code",
   "execution_count": 259,
   "id": "ce0b45a3",
   "metadata": {},
   "outputs": [
    {
     "data": {
      "text/plain": [
       "(819064, 6)"
      ]
     },
     "execution_count": 259,
     "metadata": {},
     "output_type": "execute_result"
    }
   ],
   "source": [
    "Q1 = df[['Blue','Green','Red','NIR']].quantile(0.25)\n",
    "Q3 = df[['Blue','Green','Red','NIR']].quantile(0.75)\n",
    "IQR = Q3 - Q1\n",
    "\n",
    "df = df[~((df[['Blue','Green','Red','NIR']] < (Q1 - 1.5 * IQR)) |(df[['Blue','Green','Red','NIR']] > (Q3 + 1.5 * IQR))).any(axis=1)]\n",
    "df.shape"
   ]
  },
  {
   "cell_type": "markdown",
   "id": "5fd68eac",
   "metadata": {},
   "source": [
    "# IQR v2"
   ]
  },
  {
   "cell_type": "code",
   "execution_count": 218,
   "id": "ab14bd8a",
   "metadata": {},
   "outputs": [],
   "source": [
    "columns = ['Blue','Green','Red','NIR']"
   ]
  },
  {
   "cell_type": "code",
   "execution_count": 219,
   "id": "16202d95",
   "metadata": {},
   "outputs": [],
   "source": [
    "def removeOutliers(df,col):\n",
    "    # IQR\n",
    "    Q1 = np.percentile(df[col], 25,\n",
    "                   method = 'midpoint')\n",
    " \n",
    "    Q3 = np.percentile(df[col], 75,\n",
    "                   method = 'midpoint')\n",
    "    IQR = Q3 - Q1\n",
    "\n",
    "\n",
    "    print(\"Old Shape: \", df.shape)\n",
    " \n",
    "    # Upper bound\n",
    "    upper = df[col] >= (Q3+1.5*IQR)\n",
    "    # Lower bound\n",
    "    lower = df[col] <= (Q1-1.5*IQR)\n",
    " \n",
    "    ''' Removing the Outliers '''\n",
    "    df = df[~upper]\n",
    "    df = df[~lower]\n",
    " \n",
    "    print(\"New Shape: \", df.shape)\n",
    "    return df"
   ]
  },
  {
   "cell_type": "code",
   "execution_count": 220,
   "id": "e1635900",
   "metadata": {},
   "outputs": [
    {
     "name": "stdout",
     "output_type": "stream",
     "text": [
      "Old Shape:  (967005, 6)\n",
      "New Shape:  (901407, 6)\n"
     ]
    },
    {
     "name": "stderr",
     "output_type": "stream",
     "text": [
      "C:\\Users\\Dell\\AppData\\Local\\Temp\\ipykernel_17760\\3565903680.py:20: UserWarning: Boolean Series key will be reindexed to match DataFrame index.\n",
      "  df = df[~lower]\n"
     ]
    }
   ],
   "source": [
    "df = removeOutliers(df,'Blue')"
   ]
  },
  {
   "cell_type": "code",
   "execution_count": 221,
   "id": "e7e3e957",
   "metadata": {},
   "outputs": [
    {
     "name": "stdout",
     "output_type": "stream",
     "text": [
      "Old Shape:  (901407, 6)\n",
      "New Shape:  (866044, 6)\n"
     ]
    },
    {
     "name": "stderr",
     "output_type": "stream",
     "text": [
      "C:\\Users\\Dell\\AppData\\Local\\Temp\\ipykernel_17760\\3565903680.py:20: UserWarning: Boolean Series key will be reindexed to match DataFrame index.\n",
      "  df = df[~lower]\n"
     ]
    }
   ],
   "source": [
    "df = removeOutliers(df,'Green')"
   ]
  },
  {
   "cell_type": "code",
   "execution_count": 222,
   "id": "6d64c367",
   "metadata": {},
   "outputs": [
    {
     "name": "stdout",
     "output_type": "stream",
     "text": [
      "Old Shape:  (866044, 6)\n",
      "New Shape:  (795585, 6)\n"
     ]
    },
    {
     "name": "stderr",
     "output_type": "stream",
     "text": [
      "C:\\Users\\Dell\\AppData\\Local\\Temp\\ipykernel_17760\\3565903680.py:20: UserWarning: Boolean Series key will be reindexed to match DataFrame index.\n",
      "  df = df[~lower]\n"
     ]
    }
   ],
   "source": [
    "df = removeOutliers(df,'Red')"
   ]
  },
  {
   "cell_type": "code",
   "execution_count": 223,
   "id": "d27cd084",
   "metadata": {},
   "outputs": [
    {
     "name": "stdout",
     "output_type": "stream",
     "text": [
      "Old Shape:  (795585, 6)\n",
      "New Shape:  (627333, 6)\n"
     ]
    },
    {
     "name": "stderr",
     "output_type": "stream",
     "text": [
      "C:\\Users\\Dell\\AppData\\Local\\Temp\\ipykernel_17760\\3565903680.py:20: UserWarning: Boolean Series key will be reindexed to match DataFrame index.\n",
      "  df = df[~lower]\n"
     ]
    }
   ],
   "source": [
    "df = removeOutliers(df,'NIR')"
   ]
  },
  {
   "cell_type": "markdown",
   "id": "cd151086",
   "metadata": {},
   "source": [
    "## Remove zeros"
   ]
  },
  {
   "cell_type": "code",
   "execution_count": 831,
   "id": "e1d22ace",
   "metadata": {},
   "outputs": [
    {
     "data": {
      "text/plain": [
       "(965282, 6)"
      ]
     },
     "execution_count": 831,
     "metadata": {},
     "output_type": "execute_result"
    }
   ],
   "source": [
    "df = df[(df != 0).all(1)]\n",
    "df.shape"
   ]
  },
  {
   "cell_type": "code",
   "execution_count": 832,
   "id": "242350b3",
   "metadata": {},
   "outputs": [
    {
     "data": {
      "text/plain": [
       "(965282, 6)"
      ]
     },
     "execution_count": 832,
     "metadata": {},
     "output_type": "execute_result"
    }
   ],
   "source": [
    "df.dropna()\n",
    "df.shape"
   ]
  },
  {
   "cell_type": "code",
   "execution_count": 833,
   "id": "007d96a1",
   "metadata": {},
   "outputs": [],
   "source": [
    "# Import seaborn\n",
    "import seaborn as sns"
   ]
  },
  {
   "cell_type": "code",
   "execution_count": 834,
   "id": "74eb20cf",
   "metadata": {
    "scrolled": true
   },
   "outputs": [
    {
     "data": {
      "text/plain": [
       "80    618857\n",
       "50    143382\n",
       "30    108240\n",
       "10     57999\n",
       "20     15703\n",
       "60     15014\n",
       "40      4342\n",
       "90      1745\n",
       "Name: Code, dtype: int64"
      ]
     },
     "execution_count": 834,
     "metadata": {},
     "output_type": "execute_result"
    }
   ],
   "source": [
    "df['Code'].value_counts()"
   ]
  },
  {
   "cell_type": "code",
   "execution_count": 835,
   "id": "920e7567",
   "metadata": {},
   "outputs": [
    {
     "data": {
      "text/plain": [
       "<AxesSubplot:xlabel='Code', ylabel='Count'>"
      ]
     },
     "execution_count": 835,
     "metadata": {},
     "output_type": "execute_result"
    },
    {
     "data": {
      "image/png": "[encoded data removed]",
      "text/plain": [
       "<Figure size 800x800 with 1 Axes>"
      ]
     },
     "metadata": {},
     "output_type": "display_data"
    }
   ],
   "source": [
    "sns.histplot(data=df, x=\"Code\",binwidth=5)"
   ]
  },
  {
   "cell_type": "markdown",
   "id": "b3dacb58",
   "metadata": {},
   "source": [
    "## Add NDVI and NDWI"
   ]
  },
  {
   "cell_type": "code",
   "execution_count": 647,
   "id": "1fe65a7a",
   "metadata": {},
   "outputs": [],
   "source": [
    "# Extract the red, green and blue bands from the dataframe:\n",
    "red = df[\"Red\"]\n",
    "green = df[\"Green\"]\n",
    "blue = df[\"Blue\"]\n",
    "NIR = df['NIR']\n",
    "\n",
    "# Compute the NDVI:\n",
    "ndvi = (NIR - red) / (NIR + red)\n",
    "\n",
    "# Compute the NDWI:\n",
    "ndwi = (green - NIR) / (green + NIR)\n",
    "\n",
    "# Add the NDVI and NDWI indices to the DataFrame:\n",
    "df[\"NDVI\"] = ndvi\n",
    "df[\"NDWI\"] = ndwi"
   ]
  },
  {
   "cell_type": "code",
   "execution_count": 648,
   "id": "bbfb0119",
   "metadata": {},
   "outputs": [
    {
     "data": {
      "text/html": [
       "<div>\n",
       "<style scoped>\n",
       "    .dataframe tbody tr th:only-of-type {\n",
       "        vertical-align: middle;\n",
       "    }\n",
       "\n",
       "    .dataframe tbody tr th {\n",
       "        vertical-align: top;\n",
       "    }\n",
       "\n",
       "    .dataframe thead th {\n",
       "        text-align: right;\n",
       "    }\n",
       "</style>\n",
       "<table border=\"1\" class=\"dataframe\">\n",
       "  <thead>\n",
       "    <tr style=\"text-align: right;\">\n",
       "      <th></th>\n",
       "      <th>Id</th>\n",
       "      <th>Code</th>\n",
       "      <th>Blue</th>\n",
       "      <th>Green</th>\n",
       "      <th>Red</th>\n",
       "      <th>NIR</th>\n",
       "      <th>NDVI</th>\n",
       "      <th>NDWI</th>\n",
       "    </tr>\n",
       "  </thead>\n",
       "  <tbody>\n",
       "    <tr>\n",
       "      <th>1</th>\n",
       "      <td>1</td>\n",
       "      <td>10</td>\n",
       "      <td>0.1997</td>\n",
       "      <td>0.1982</td>\n",
       "      <td>0.1860</td>\n",
       "      <td>0.3672</td>\n",
       "      <td>0.327549</td>\n",
       "      <td>-0.298903</td>\n",
       "    </tr>\n",
       "    <tr>\n",
       "      <th>2</th>\n",
       "      <td>2</td>\n",
       "      <td>10</td>\n",
       "      <td>0.1950</td>\n",
       "      <td>0.1906</td>\n",
       "      <td>0.1776</td>\n",
       "      <td>0.3335</td>\n",
       "      <td>0.305028</td>\n",
       "      <td>-0.272658</td>\n",
       "    </tr>\n",
       "    <tr>\n",
       "      <th>3</th>\n",
       "      <td>3</td>\n",
       "      <td>10</td>\n",
       "      <td>0.1933</td>\n",
       "      <td>0.1886</td>\n",
       "      <td>0.1742</td>\n",
       "      <td>0.3390</td>\n",
       "      <td>0.321122</td>\n",
       "      <td>-0.285064</td>\n",
       "    </tr>\n",
       "    <tr>\n",
       "      <th>4</th>\n",
       "      <td>4</td>\n",
       "      <td>10</td>\n",
       "      <td>0.2162</td>\n",
       "      <td>0.2035</td>\n",
       "      <td>0.2173</td>\n",
       "      <td>0.3605</td>\n",
       "      <td>0.247837</td>\n",
       "      <td>-0.278369</td>\n",
       "    </tr>\n",
       "    <tr>\n",
       "      <th>5</th>\n",
       "      <td>5</td>\n",
       "      <td>10</td>\n",
       "      <td>0.2159</td>\n",
       "      <td>0.2165</td>\n",
       "      <td>0.2112</td>\n",
       "      <td>0.3611</td>\n",
       "      <td>0.261926</td>\n",
       "      <td>-0.250346</td>\n",
       "    </tr>\n",
       "  </tbody>\n",
       "</table>\n",
       "</div>"
      ],
      "text/plain": [
       "   Id  Code    Blue   Green     Red     NIR      NDVI      NDWI\n",
       "1   1    10  0.1997  0.1982  0.1860  0.3672  0.327549 -0.298903\n",
       "2   2    10  0.1950  0.1906  0.1776  0.3335  0.305028 -0.272658\n",
       "3   3    10  0.1933  0.1886  0.1742  0.3390  0.321122 -0.285064\n",
       "4   4    10  0.2162  0.2035  0.2173  0.3605  0.247837 -0.278369\n",
       "5   5    10  0.2159  0.2165  0.2112  0.3611  0.261926 -0.250346"
      ]
     },
     "execution_count": 648,
     "metadata": {},
     "output_type": "execute_result"
    }
   ],
   "source": [
    "df.head()"
   ]
  },
  {
   "cell_type": "markdown",
   "id": "0855e0d9",
   "metadata": {},
   "source": [
    "## Select features to train"
   ]
  },
  {
   "cell_type": "code",
   "execution_count": 702,
   "id": "3b615841",
   "metadata": {},
   "outputs": [
    {
     "name": "stdout",
     "output_type": "stream",
     "text": [
      "965282\n",
      "965282\n"
     ]
    }
   ],
   "source": [
    "X = df.iloc[:,[2,3,4,5]]\n",
    "y = df.iloc[:,[1]]\n",
    "print(len(X))\n",
    "print(len(y))"
   ]
  },
  {
   "cell_type": "code",
   "execution_count": 684,
   "id": "1c523fc9",
   "metadata": {},
   "outputs": [
    {
     "data": {
      "text/html": [
       "<div>\n",
       "<style scoped>\n",
       "    .dataframe tbody tr th:only-of-type {\n",
       "        vertical-align: middle;\n",
       "    }\n",
       "\n",
       "    .dataframe tbody tr th {\n",
       "        vertical-align: top;\n",
       "    }\n",
       "\n",
       "    .dataframe thead th {\n",
       "        text-align: right;\n",
       "    }\n",
       "</style>\n",
       "<table border=\"1\" class=\"dataframe\">\n",
       "  <thead>\n",
       "    <tr style=\"text-align: right;\">\n",
       "      <th></th>\n",
       "      <th>Blue</th>\n",
       "      <th>Green</th>\n",
       "      <th>Red</th>\n",
       "      <th>NIR</th>\n",
       "    </tr>\n",
       "  </thead>\n",
       "  <tbody>\n",
       "    <tr>\n",
       "      <th>1</th>\n",
       "      <td>0.1997</td>\n",
       "      <td>0.1982</td>\n",
       "      <td>0.1860</td>\n",
       "      <td>0.3672</td>\n",
       "    </tr>\n",
       "    <tr>\n",
       "      <th>2</th>\n",
       "      <td>0.1950</td>\n",
       "      <td>0.1906</td>\n",
       "      <td>0.1776</td>\n",
       "      <td>0.3335</td>\n",
       "    </tr>\n",
       "    <tr>\n",
       "      <th>3</th>\n",
       "      <td>0.1933</td>\n",
       "      <td>0.1886</td>\n",
       "      <td>0.1742</td>\n",
       "      <td>0.3390</td>\n",
       "    </tr>\n",
       "    <tr>\n",
       "      <th>4</th>\n",
       "      <td>0.2162</td>\n",
       "      <td>0.2035</td>\n",
       "      <td>0.2173</td>\n",
       "      <td>0.3605</td>\n",
       "    </tr>\n",
       "    <tr>\n",
       "      <th>5</th>\n",
       "      <td>0.2159</td>\n",
       "      <td>0.2165</td>\n",
       "      <td>0.2112</td>\n",
       "      <td>0.3611</td>\n",
       "    </tr>\n",
       "  </tbody>\n",
       "</table>\n",
       "</div>"
      ],
      "text/plain": [
       "     Blue   Green     Red     NIR\n",
       "1  0.1997  0.1982  0.1860  0.3672\n",
       "2  0.1950  0.1906  0.1776  0.3335\n",
       "3  0.1933  0.1886  0.1742  0.3390\n",
       "4  0.2162  0.2035  0.2173  0.3605\n",
       "5  0.2159  0.2165  0.2112  0.3611"
      ]
     },
     "execution_count": 684,
     "metadata": {},
     "output_type": "execute_result"
    }
   ],
   "source": [
    "X.head()"
   ]
  },
  {
   "cell_type": "markdown",
   "id": "1689707d",
   "metadata": {},
   "source": [
    "## Train_test_split"
   ]
  },
  {
   "cell_type": "code",
   "execution_count": 757,
   "id": "d01ecc23",
   "metadata": {},
   "outputs": [],
   "source": [
    "X_train, X_test, y_train, y_test = train_test_split(X, y,stratify=y,test_size=0.010)"
   ]
  },
  {
   "cell_type": "markdown",
   "id": "9bd88495",
   "metadata": {},
   "source": [
    "## SVC"
   ]
  },
  {
   "cell_type": "code",
   "execution_count": 50,
   "id": "9625fd8b",
   "metadata": {},
   "outputs": [
    {
     "name": "stdout",
     "output_type": "stream",
     "text": [
      "Model accuracy score with default hyperparameters: 0.6414\n",
      "CPU times: total: 3.12 s\n",
      "Wall time: 2.98 s\n"
     ]
    }
   ],
   "source": [
    "%%time\n",
    "# import SVC classifier\n",
    "from sklearn.svm import SVC\n",
    "from sklearn.svm import LinearSVC\n",
    "\n",
    "# import metrics to compute accuracy\n",
    "from sklearn.metrics import accuracy_score\n",
    "\n",
    "\n",
    "# instantiate classifier with default hyperparameters\n",
    "# svc=SVC(C=5,kernel='linear') \n",
    "svc=LinearSVC(C=5,dual=False) \n",
    "# svc = LinearSVC(loss='hinge', intercept_scaling=1000)\n",
    "\n",
    "# fit classifier to training set\n",
    "svc.fit(X_train,np.ravel(y_train))\n",
    "\n",
    "\n",
    "# make predictions on test set\n",
    "y_pred=svc.predict(X_test)\n",
    "\n",
    "\n",
    "# compute and print accuracy score\n",
    "print('Model accuracy score with default hyperparameters: {0:0.4f}'. format(accuracy_score(y_test, y_pred)))"
   ]
  },
  {
   "cell_type": "code",
   "execution_count": 51,
   "id": "77eae31d",
   "metadata": {},
   "outputs": [
    {
     "name": "stdout",
     "output_type": "stream",
     "text": [
      "Accuracy: 64.14%\n"
     ]
    },
    {
     "data": {
      "text/plain": [
       "0.0976916943493637"
      ]
     },
     "execution_count": 51,
     "metadata": {},
     "output_type": "execute_result"
    }
   ],
   "source": [
    "# Evaluate the accuracy of the classifier\n",
    "from sklearn import metrics  \n",
    "accuracy = accuracy_score(y_test, y_pred)\n",
    "print(f'Accuracy: {accuracy:.2%}')\n",
    "\n",
    "f1_score_knn= metrics.f1_score(y_test,y_pred, average = \"macro\" )\n",
    "f1_score_knn"
   ]
  },
  {
   "cell_type": "markdown",
   "id": "8a1f78c4",
   "metadata": {},
   "source": [
    "## RandomForest"
   ]
  },
  {
   "cell_type": "code",
   "execution_count": 775,
   "id": "d5247f05",
   "metadata": {},
   "outputs": [
    {
     "name": "stdout",
     "output_type": "stream",
     "text": [
      "\n",
      "ACCURACY OF THE MODEL:  0.9037604889671604\n",
      "Accuracy: 90.38%\n"
     ]
    },
    {
     "data": {
      "text/plain": [
       "0.5811045896683569"
      ]
     },
     "execution_count": 775,
     "metadata": {},
     "output_type": "execute_result"
    }
   ],
   "source": [
    "from sklearn.ensemble import RandomForestClassifier\n",
    "# creating a RF classifier\n",
    "clf = RandomForestClassifier(n_estimators = 250)  \n",
    "  \n",
    "# Training the model on the training dataset\n",
    "# fit function is used to train the model using the training sets as parameters\n",
    "clf.fit(X_train,np.ravel(y_train))\n",
    "  \n",
    "# performing predictions on the test dataset\n",
    "y_pred = clf.predict(X_test)\n",
    "  \n",
    "# metrics are used to find accuracy or error\n",
    "from sklearn import metrics  \n",
    "print()\n",
    "  \n",
    "# using metrics module for accuracy calculation\n",
    "print(\"ACCURACY OF THE MODEL: \", metrics.accuracy_score(y_test, y_pred))\n",
    "\n",
    "# Evaluate the accuracy of the classifier\n",
    "from sklearn import metrics  \n",
    "accuracy = accuracy_score(y_test, y_pred)\n",
    "print(f'Accuracy: {accuracy:.2%}')\n",
    "\n",
    "f1_score_random_forest= metrics.f1_score(y_test,y_pred, average = \"macro\" )\n",
    "f1_score_random_forest"
   ]
  },
  {
   "cell_type": "code",
   "execution_count": 776,
   "id": "a848cbfe",
   "metadata": {},
   "outputs": [
    {
     "name": "stdout",
     "output_type": "stream",
     "text": [
      "                        precision    recall  f1-score   support\n",
      "\n",
      "            Tree cover       0.67      0.63      0.65       580\n",
      "             Shrubland       0.58      0.54      0.56       157\n",
      "             Grassland       0.66      0.73      0.70      1082\n",
      "              Cropland       0.50      0.21      0.30        43\n",
      "              Built-up       0.81      0.85      0.83      1434\n",
      "Bare/sparse vegetation       0.54      0.25      0.35       150\n",
      "Permanent water bodies       1.00      0.99      0.99      6189\n",
      "    Herbaceous wetland       0.20      0.06      0.09        18\n",
      "\n",
      "              accuracy                           0.90      9653\n",
      "             macro avg       0.62      0.53      0.56      9653\n",
      "          weighted avg       0.89      0.90      0.89      9653\n",
      "\n"
     ]
    },
    {
     "data": {
      "text/plain": [
       "<sklearn.metrics._plot.confusion_matrix.ConfusionMatrixDisplay at 0x245ab244ac0>"
      ]
     },
     "execution_count": 776,
     "metadata": {},
     "output_type": "execute_result"
    },
    {
     "data": {
      "image/png": "[encoded data removed]",
      "text/plain": [
       "<Figure size 640x480 with 2 Axes>"
      ]
     },
     "metadata": {},
     "output_type": "display_data"
    }
   ],
   "source": [
    "# Compute the confusion matrix\n",
    "labels = ['Tree cover', 'Shrubland', 'Grassland', 'Cropland', 'Built-up', 'Bare/sparse vegetation', 'Permanent water bodies', 'Herbaceous wetland']\n",
    "import matplotlib.pyplot as plt\n",
    "\n",
    "cm = confusion_matrix(y_test, y_predict)\n",
    "print(classification_report(y_test, y_predict,target_names=labels))\n",
    "# print(cm)\n",
    "cmd = ConfusionMatrixDisplay(cm, display_labels=labels)\n",
    "cmd.plot()"
   ]
  },
  {
   "cell_type": "code",
   "execution_count": 45,
   "id": "cb84ae35",
   "metadata": {},
   "outputs": [
    {
     "name": "stdout",
     "output_type": "stream",
     "text": [
      "Confusion Matrix\n",
      "[[  6269    315   3617      2    686      9      6     20]\n",
      " [   350   1954    846      0      9      0      0      5]\n",
      " [  1854    614  24715     95   2093     78     58     47]\n",
      " [     4      0    709    264    137      0      1      1]\n",
      " [   293     12   2737     36  10964     63    407     36]\n",
      " [     9      0    232      2    604    562    162     36]\n",
      " [     8      0     46      0    714     48 183332     22]\n",
      " [    18      0     73      0     77     79     28    237]]\n",
      "\n",
      "Classification Report\n",
      "              precision    recall  f1-score   support\n",
      "\n",
      "          10       0.71      0.57      0.64     10924\n",
      "          20       0.67      0.62      0.64      3164\n",
      "          30       0.75      0.84      0.79     29554\n",
      "          40       0.66      0.24      0.35      1116\n",
      "          50       0.72      0.75      0.74     14548\n",
      "          60       0.67      0.35      0.46      1607\n",
      "          80       1.00      1.00      1.00    184170\n",
      "          90       0.59      0.46      0.52       512\n",
      "\n",
      "    accuracy                           0.93    245595\n",
      "   macro avg       0.72      0.60      0.64    245595\n",
      "weighted avg       0.93      0.93      0.93    245595\n",
      "\n"
     ]
    }
   ],
   "source": [
    "# conf_mtrx = confusion_matrix(y_test, y_pred)\n",
    "# print('Confusion Matrix')\n",
    "# print(conf_mtrx)\n",
    "# print()\n",
    "\n",
    "# print('Classification Report')\n",
    "# print(classification_report(y_test, y_pred))"
   ]
  },
  {
   "cell_type": "markdown",
   "id": "b453653f",
   "metadata": {},
   "source": [
    "## Bayes"
   ]
  },
  {
   "cell_type": "code",
   "execution_count": 739,
   "id": "a3d12d65",
   "metadata": {},
   "outputs": [
    {
     "name": "stderr",
     "output_type": "stream",
     "text": [
      "C:\\Users\\Dell\\anaconda3\\lib\\site-packages\\sklearn\\utils\\validation.py:993: DataConversionWarning: A column-vector y was passed when a 1d array was expected. Please change the shape of y to (n_samples, ), for example using ravel().\n",
      "  y = column_or_1d(y, warn=True)\n"
     ]
    },
    {
     "name": "stdout",
     "output_type": "stream",
     "text": [
      "Gaussian Naive Bayes model accuracy(in %): 76.58758935046099\n"
     ]
    },
    {
     "data": {
      "text/plain": [
       "0.25532475662486653"
      ]
     },
     "execution_count": 739,
     "metadata": {},
     "output_type": "execute_result"
    }
   ],
   "source": [
    "from sklearn.naive_bayes import GaussianNB\n",
    "gnb = GaussianNB(var_smoothing=1)\n",
    "gnb.fit(X_train, y_train)\n",
    "  \n",
    "# making predictions on the testing set\n",
    "y_pred = gnb.predict(X_test)\n",
    "  \n",
    "# comparing actual response values (y_test) with predicted response values (y_pred)\n",
    "from sklearn import metrics\n",
    "print(\"Gaussian Naive Bayes model accuracy(in %):\", metrics.accuracy_score(y_test, y_pred)*100)\n",
    "\n",
    "f1_score= metrics.f1_score(y_test,y_pred, average = \"macro\")\n",
    "f1_score"
   ]
  },
  {
   "cell_type": "markdown",
   "id": "b9456a01",
   "metadata": {},
   "source": [
    "# KNN"
   ]
  },
  {
   "cell_type": "code",
   "execution_count": 758,
   "id": "9f99b5ef",
   "metadata": {},
   "outputs": [
    {
     "name": "stdout",
     "output_type": "stream",
     "text": [
      "0.8932839005866215\n"
     ]
    }
   ],
   "source": [
    "# Create the KNN classifier with k=1\n",
    "clf = KNeighborsClassifier(n_neighbors=5)\n",
    "# Use cross-validation to evaluate the model's accuracy\n",
    "scores = cross_val_score(clf, X_train, np.ravel(y_train), cv=5)\n",
    "acc = scores.mean()\n",
    "print(acc)"
   ]
  },
  {
   "cell_type": "code",
   "execution_count": 759,
   "id": "da0f3730",
   "metadata": {
    "scrolled": true
   },
   "outputs": [
    {
     "name": "stdout",
     "output_type": "stream",
     "text": [
      "[80 80 80 30 80 20 80 50 80 80 80 50 80 10 50 80 10 80 30 80 80 50 80 80\n",
      " 80 80 80 50 80 50]\n"
     ]
    }
   ],
   "source": [
    "# Fit the classifier to the data\n",
    "clf.fit(X_train, np.ravel(y_train))\n",
    "# Predict labels for new data\n",
    "y_predict = clf.predict(X_test)\n",
    "print(y_predict[:30])"
   ]
  },
  {
   "cell_type": "code",
   "execution_count": 760,
   "id": "454178ce",
   "metadata": {},
   "outputs": [
    {
     "name": "stdout",
     "output_type": "stream",
     "text": [
      "Accuracy: 89.60%\n"
     ]
    },
    {
     "data": {
      "text/plain": [
       "0.5571067560636105"
      ]
     },
     "execution_count": 760,
     "metadata": {},
     "output_type": "execute_result"
    }
   ],
   "source": [
    "# Evaluate the accuracy of the classifier\n",
    "from sklearn import metrics  \n",
    "accuracy = accuracy_score(y_test, y_predict)\n",
    "print(f'Accuracy: {accuracy:.2%}')\n",
    "\n",
    "f1_score_knn= metrics.f1_score(y_test,y_predict, average = \"macro\" )\n",
    "f1_score_knn"
   ]
  },
  {
   "cell_type": "code",
   "execution_count": 774,
   "id": "2a131ccc",
   "metadata": {},
   "outputs": [
    {
     "name": "stdout",
     "output_type": "stream",
     "text": [
      "                        precision    recall  f1-score   support\n",
      "\n",
      "            Tree cover       0.67      0.63      0.65       580\n",
      "             Shrubland       0.58      0.54      0.56       157\n",
      "             Grassland       0.66      0.73      0.70      1082\n",
      "              Cropland       0.50      0.21      0.30        43\n",
      "              Built-up       0.81      0.85      0.83      1434\n",
      "Bare/sparse vegetation       0.54      0.25      0.35       150\n",
      "Permanent water bodies       1.00      0.99      0.99      6189\n",
      "    Herbaceous wetland       0.20      0.06      0.09        18\n",
      "\n",
      "              accuracy                           0.90      9653\n",
      "             macro avg       0.62      0.53      0.56      9653\n",
      "          weighted avg       0.89      0.90      0.89      9653\n",
      "\n"
     ]
    },
    {
     "data": {
      "text/plain": [
       "<sklearn.metrics._plot.confusion_matrix.ConfusionMatrixDisplay at 0x246f5b2ca00>"
      ]
     },
     "execution_count": 774,
     "metadata": {},
     "output_type": "execute_result"
    },
    {
     "data": {
      "image/png": "[encoded data removed]",
      "text/plain": [
       "<Figure size 640x480 with 2 Axes>"
      ]
     },
     "metadata": {},
     "output_type": "display_data"
    }
   ],
   "source": [
    "# Compute the confusion matrix\n",
    "labels = ['Tree cover', 'Shrubland', 'Grassland', 'Cropland', 'Built-up', 'Bare/sparse vegetation', 'Permanent water bodies', 'Herbaceous wetland']\n",
    "import matplotlib.pyplot as plt\n",
    "\n",
    "cm = confusion_matrix(y_test, y_predict)\n",
    "print(classification_report(y_test, y_predict,target_names=labels))\n",
    "# print(cm)\n",
    "cmd = ConfusionMatrixDisplay(cm, display_labels=labels)\n",
    "cmd.plot()"
   ]
  },
  {
   "cell_type": "code",
   "execution_count": 537,
   "id": "ea204ea4",
   "metadata": {},
   "outputs": [],
   "source": [
    "y_test_arr = np.array(y_test)"
   ]
  },
  {
   "cell_type": "code",
   "execution_count": 538,
   "id": "d8b44fd1",
   "metadata": {},
   "outputs": [
    {
     "data": {
      "text/plain": [
       "50"
      ]
     },
     "execution_count": 538,
     "metadata": {},
     "output_type": "execute_result"
    }
   ],
   "source": [
    "y_pred[160]"
   ]
  },
  {
   "cell_type": "code",
   "execution_count": 539,
   "id": "f5487e26",
   "metadata": {},
   "outputs": [
    {
     "data": {
      "text/plain": [
       "array([80], dtype=int64)"
      ]
     },
     "execution_count": 539,
     "metadata": {},
     "output_type": "execute_result"
    }
   ],
   "source": [
    "y_test_arr[160]"
   ]
  },
  {
   "cell_type": "code",
   "execution_count": 540,
   "id": "15f1a758",
   "metadata": {},
   "outputs": [],
   "source": [
    "if(y_test_arr[160] == y_pred[160] ):\n",
    "    print(\"same\")"
   ]
  },
  {
   "cell_type": "code",
   "execution_count": 541,
   "id": "9dee7c43",
   "metadata": {},
   "outputs": [
    {
     "data": {
      "text/plain": [
       "(96529, 1)"
      ]
     },
     "execution_count": 541,
     "metadata": {},
     "output_type": "execute_result"
    }
   ],
   "source": [
    "np.shape(y_test_arr)"
   ]
  },
  {
   "cell_type": "code",
   "execution_count": 542,
   "id": "842b8a3f",
   "metadata": {},
   "outputs": [
    {
     "name": "stdout",
     "output_type": "stream",
     "text": [
      "index_same  11739\n",
      "index_diff  84790\n"
     ]
    }
   ],
   "source": [
    "index_same = []\n",
    "index_diff = []\n",
    "for i in range(len(y_test)):\n",
    "    if(y_pred[i] == y_test_arr[i]):\n",
    "        index_same.append(i)\n",
    "    else:\n",
    "        index_diff.append(i)\n",
    "print(\"index_same \",len(index_same))\n",
    "print(\"index_diff \",len(index_diff))"
   ]
  },
  {
   "cell_type": "code",
   "execution_count": 543,
   "id": "bc3c1b26",
   "metadata": {},
   "outputs": [],
   "source": [
    "X_new_train = X_train.drop(index=X_train.index[index_same])"
   ]
  },
  {
   "cell_type": "code",
   "execution_count": 544,
   "id": "b3fa000e",
   "metadata": {},
   "outputs": [],
   "source": [
    "y_new_train = y_train.drop(index=y_train.index[index_same])"
   ]
  },
  {
   "cell_type": "code",
   "execution_count": 545,
   "id": "a9e632d1",
   "metadata": {},
   "outputs": [],
   "source": [
    "X_new_test = X_test.drop(index=X_test.index[index_same])"
   ]
  },
  {
   "cell_type": "code",
   "execution_count": 546,
   "id": "45ecf8d6",
   "metadata": {},
   "outputs": [],
   "source": [
    "y_new_test = y_test.drop(index=y_test.index[index_same])"
   ]
  },
  {
   "cell_type": "code",
   "execution_count": 547,
   "id": "692b96d2",
   "metadata": {},
   "outputs": [
    {
     "name": "stdout",
     "output_type": "stream",
     "text": [
      "[30 80 50 80 80 80 30 80 80 80 80 50 10 50 80 80 50 50 80 80 10 80 80 80\n",
      " 30 50 50 80 80 80]\n"
     ]
    }
   ],
   "source": [
    "# Fit the classifier to the data\n",
    "clf.fit(X_new_train, np.ravel(y_new_train))\n",
    "# Predict labels for new data\n",
    "y_predict = clf.predict(X_new_test)\n",
    "print(y_predict[:30])"
   ]
  },
  {
   "cell_type": "code",
   "execution_count": 548,
   "id": "d6aa39dd",
   "metadata": {},
   "outputs": [
    {
     "name": "stdout",
     "output_type": "stream",
     "text": [
      "Accuracy: 91.04%\n"
     ]
    },
    {
     "data": {
      "text/plain": [
       "0.5528335262014172"
      ]
     },
     "execution_count": 548,
     "metadata": {},
     "output_type": "execute_result"
    }
   ],
   "source": [
    "# Evaluate the accuracy of the classifier\n",
    "from sklearn import metrics  \n",
    "accuracy = accuracy_score(y_new_test, y_predict)\n",
    "print(f'Accuracy: {accuracy:.2%}')\n",
    "\n",
    "f1_score_knn= metrics.f1_score(y_new_test,y_predict, average = \"macro\" )\n",
    "f1_score_knn"
   ]
  },
  {
   "cell_type": "code",
   "execution_count": 549,
   "id": "c7d54cf1",
   "metadata": {},
   "outputs": [],
   "source": [
    "y_test_arr = np.array(y_new_test)"
   ]
  },
  {
   "cell_type": "code",
   "execution_count": 550,
   "id": "7a563108",
   "metadata": {},
   "outputs": [
    {
     "name": "stdout",
     "output_type": "stream",
     "text": [
      "index_same  4920\n",
      "index_diff  79870\n"
     ]
    }
   ],
   "source": [
    "index_same = []\n",
    "index_diff = []\n",
    "for i in range(len(y_test_arr)):\n",
    "    if(y_pred[i] == y_test_arr[i]):\n",
    "        index_same.append(i)\n",
    "    else:\n",
    "        index_diff.append(i)\n",
    "print(\"index_same \",len(index_same))\n",
    "print(\"index_diff \",len(index_diff))"
   ]
  },
  {
   "cell_type": "code",
   "execution_count": 551,
   "id": "02d7b34e",
   "metadata": {},
   "outputs": [],
   "source": [
    "X_new_train2 = X_new_train.drop(index=X_new_train.index[index_same])"
   ]
  },
  {
   "cell_type": "code",
   "execution_count": 552,
   "id": "aee292ec",
   "metadata": {},
   "outputs": [],
   "source": [
    "y_new_train2 = y_new_train.drop(index=y_new_train.index[index_same])"
   ]
  },
  {
   "cell_type": "code",
   "execution_count": 553,
   "id": "41fc1d0e",
   "metadata": {},
   "outputs": [],
   "source": [
    "X_new_test2 = X_new_test.drop(index=X_new_test.index[index_same])"
   ]
  },
  {
   "cell_type": "code",
   "execution_count": 554,
   "id": "14b5459a",
   "metadata": {},
   "outputs": [],
   "source": [
    "y_new_test2 = y_new_test.drop(index=y_new_test.index[index_same])"
   ]
  },
  {
   "cell_type": "code",
   "execution_count": 555,
   "id": "a527547e",
   "metadata": {},
   "outputs": [
    {
     "name": "stdout",
     "output_type": "stream",
     "text": [
      "[30 80 50 80 80 80 30 80 80 80 80 50 10 50 80 80 50 50 80 80 10 80 80 80\n",
      " 80 80 80 80 80 80]\n"
     ]
    }
   ],
   "source": [
    "# Fit the classifier to the data\n",
    "clf.fit(X_new_train2, np.ravel(y_new_train2))\n",
    "# Predict labels for new data\n",
    "y_predict = clf.predict(X_new_test2)\n",
    "print(y_predict[:30])"
   ]
  },
  {
   "cell_type": "code",
   "execution_count": 556,
   "id": "1e2f1fbb",
   "metadata": {},
   "outputs": [
    {
     "name": "stdout",
     "output_type": "stream",
     "text": [
      "Accuracy: 91.80%\n"
     ]
    },
    {
     "data": {
      "text/plain": [
       "0.5267115819322742"
      ]
     },
     "execution_count": 556,
     "metadata": {},
     "output_type": "execute_result"
    }
   ],
   "source": [
    "# Evaluate the accuracy of the classifier\n",
    "from sklearn import metrics  \n",
    "accuracy = accuracy_score(y_new_test2, y_predict)\n",
    "print(f'Accuracy: {accuracy:.2%}')\n",
    "\n",
    "f1_score_knn= metrics.f1_score(y_new_test2,y_predict, average = \"macro\" )\n",
    "f1_score_knn"
   ]
  },
  {
   "cell_type": "code",
   "execution_count": 557,
   "id": "8b356516",
   "metadata": {},
   "outputs": [],
   "source": [
    "y_test_arr = np.array(y_new_test2)"
   ]
  },
  {
   "cell_type": "code",
   "execution_count": 558,
   "id": "e24fbc92",
   "metadata": {},
   "outputs": [
    {
     "name": "stdout",
     "output_type": "stream",
     "text": [
      "index_same  2506\n",
      "index_diff  77364\n"
     ]
    }
   ],
   "source": [
    "index_same = []\n",
    "index_diff = []\n",
    "for i in range(len(y_test_arr)):\n",
    "    if(y_pred[i] == y_test_arr[i]):\n",
    "        index_same.append(i)\n",
    "    else:\n",
    "        index_diff.append(i)\n",
    "print(\"index_same \",len(index_same))\n",
    "print(\"index_diff \",len(index_diff))"
   ]
  },
  {
   "cell_type": "code",
   "execution_count": 559,
   "id": "ed18e022",
   "metadata": {},
   "outputs": [],
   "source": [
    "X_new_train3 = X_new_train2.drop(index=X_new_train2.index[index_same])"
   ]
  },
  {
   "cell_type": "code",
   "execution_count": 560,
   "id": "24ff9b67",
   "metadata": {},
   "outputs": [],
   "source": [
    "y_new_train3 = y_new_train2.drop(index=y_new_train2.index[index_same])"
   ]
  },
  {
   "cell_type": "code",
   "execution_count": 561,
   "id": "938a739b",
   "metadata": {},
   "outputs": [],
   "source": [
    "X_new_test3 = X_new_test2.drop(index=X_new_test2.index[index_same])"
   ]
  },
  {
   "cell_type": "code",
   "execution_count": 562,
   "id": "58ce56ee",
   "metadata": {},
   "outputs": [],
   "source": [
    "y_new_test3 = y_new_test2.drop(index=y_new_test2.index[index_same])"
   ]
  },
  {
   "cell_type": "code",
   "execution_count": 563,
   "id": "5c8d02a9",
   "metadata": {},
   "outputs": [
    {
     "name": "stdout",
     "output_type": "stream",
     "text": [
      "[30 80 50 80 80 80 30 80 80 80 80 50 10 50 80 80 50 50 80 80 10 80 80 80\n",
      " 80 80 80 80 80 80]\n"
     ]
    }
   ],
   "source": [
    "# Fit the classifier to the data\n",
    "clf.fit(X_new_train3, np.ravel(y_new_train3))\n",
    "# Predict labels for new data\n",
    "y_predict = clf.predict(X_new_test3)\n",
    "print(y_predict[:30])"
   ]
  },
  {
   "cell_type": "code",
   "execution_count": 564,
   "id": "86550dce",
   "metadata": {},
   "outputs": [
    {
     "name": "stdout",
     "output_type": "stream",
     "text": [
      "Accuracy: 92.11%\n"
     ]
    },
    {
     "data": {
      "text/plain": [
       "0.5062924507748986"
      ]
     },
     "execution_count": 564,
     "metadata": {},
     "output_type": "execute_result"
    }
   ],
   "source": [
    "# Evaluate the accuracy of the classifier\n",
    "from sklearn import metrics  \n",
    "accuracy = accuracy_score(y_new_test3, y_predict)\n",
    "print(f'Accuracy: {accuracy:.2%}')\n",
    "\n",
    "f1_score_knn= metrics.f1_score(y_new_test3,y_predict, average = \"macro\" )\n",
    "f1_score_knn"
   ]
  },
  {
   "cell_type": "code",
   "execution_count": 565,
   "id": "6548a243",
   "metadata": {},
   "outputs": [],
   "source": [
    "y_test_arr = np.array(y_new_test3)"
   ]
  },
  {
   "cell_type": "code",
   "execution_count": 566,
   "id": "98e22a28",
   "metadata": {},
   "outputs": [
    {
     "name": "stdout",
     "output_type": "stream",
     "text": [
      "index_same  1604\n",
      "index_diff  75760\n"
     ]
    }
   ],
   "source": [
    "index_same = []\n",
    "index_diff = []\n",
    "for i in range(len(y_test_arr)):\n",
    "    if(y_pred[i] == y_test_arr[i]):\n",
    "        index_same.append(i)\n",
    "    else:\n",
    "        index_diff.append(i)\n",
    "print(\"index_same \",len(index_same))\n",
    "print(\"index_diff \",len(index_diff))"
   ]
  },
  {
   "cell_type": "markdown",
   "id": "0141002b",
   "metadata": {},
   "source": [
    "## KNN hyperparameter tuning"
   ]
  },
  {
   "cell_type": "code",
   "execution_count": 27,
   "id": "42fa40b7",
   "metadata": {},
   "outputs": [],
   "source": [
    "from sklearn.model_selection import GridSearchCV\n",
    "\n",
    "grid_params = { 'n_neighbors' : [5,7,9,11,13,15,17],\n",
    "               'weights' : ['uniform','distance'],\n",
    "               'metric' : ['minkowski','euclidean','manhattan']}\n",
    "\n",
    "gs = GridSearchCV(KNeighborsClassifier(), grid_params, verbose = 1, cv=3, n_jobs = -1)"
   ]
  },
  {
   "cell_type": "code",
   "execution_count": 28,
   "id": "11bb8de0",
   "metadata": {},
   "outputs": [
    {
     "name": "stdout",
     "output_type": "stream",
     "text": [
      "Fitting 3 folds for each of 42 candidates, totalling 126 fits\n"
     ]
    },
    {
     "name": "stderr",
     "output_type": "stream",
     "text": [
      "C:\\Users\\Dell\\anaconda3\\lib\\site-packages\\sklearn\\neighbors\\_classification.py:198: DataConversionWarning: A column-vector y was passed when a 1d array was expected. Please change the shape of y to (n_samples,), for example using ravel().\n",
      "  return self._fit(X, y)\n"
     ]
    }
   ],
   "source": [
    "g_res = gs.fit(X_train, y_train)"
   ]
  },
  {
   "cell_type": "code",
   "execution_count": 29,
   "id": "594525f4",
   "metadata": {},
   "outputs": [
    {
     "data": {
      "text/plain": [
       "0.9534700890251049"
      ]
     },
     "execution_count": 29,
     "metadata": {},
     "output_type": "execute_result"
    }
   ],
   "source": [
    "g_res.best_score_"
   ]
  },
  {
   "cell_type": "code",
   "execution_count": 30,
   "id": "db26fb6e",
   "metadata": {},
   "outputs": [
    {
     "data": {
      "text/plain": [
       "{'metric': 'manhattan', 'n_neighbors': 5, 'weights': 'distance'}"
      ]
     },
     "execution_count": 30,
     "metadata": {},
     "output_type": "execute_result"
    }
   ],
   "source": [
    "g_res.best_params_"
   ]
  },
  {
   "cell_type": "code",
   "execution_count": 31,
   "id": "75884df1",
   "metadata": {},
   "outputs": [
    {
     "name": "stdout",
     "output_type": "stream",
     "text": [
      "0.9567529550470161\n"
     ]
    }
   ],
   "source": [
    "# use the best hyperparameters\n",
    "knn = KNeighborsClassifier(n_neighbors = 5, weights = 'distance',metric = 'manhattan')\n",
    "\n",
    "# Use cross-validation to evaluate the model's accuracy\n",
    "scores = cross_val_score(knn, X_train, np.ravel(y_train), cv=5)\n",
    "acc = scores.mean()\n",
    "print(acc)\n"
   ]
  },
  {
   "cell_type": "code",
   "execution_count": 32,
   "id": "328a305e",
   "metadata": {},
   "outputs": [
    {
     "name": "stdout",
     "output_type": "stream",
     "text": [
      "[80 80 80 80 80 80 30 80 80 80 80 10 80 80 10 80 30 80 80 80 80 10 20 80\n",
      " 80 80 30 80 80 80]\n"
     ]
    }
   ],
   "source": [
    "knn.fit(X_train, np.ravel(y_train))\n",
    "\n",
    "# Predict labels for new data\n",
    "y_predict = knn.predict(X_test)\n",
    "print(y_predict[:30])"
   ]
  },
  {
   "cell_type": "code",
   "execution_count": 33,
   "id": "bdcac033",
   "metadata": {},
   "outputs": [
    {
     "name": "stdout",
     "output_type": "stream",
     "text": [
      "Accuracy: 96.02%\n"
     ]
    },
    {
     "data": {
      "text/plain": [
       "0.8517527295570915"
      ]
     },
     "execution_count": 33,
     "metadata": {},
     "output_type": "execute_result"
    }
   ],
   "source": [
    "# Evaluate the accuracy of the classifier\n",
    "from sklearn import metrics  \n",
    "accuracy = accuracy_score(y_test, y_predict)\n",
    "print(f'Accuracy: {accuracy:.2%}')\n",
    "\n",
    "f1_score_knn= metrics.f1_score(y_test,y_predict, average = \"macro\" )\n",
    "f1_score_knn"
   ]
  },
  {
   "cell_type": "code",
   "execution_count": 34,
   "id": "742114b8",
   "metadata": {},
   "outputs": [
    {
     "name": "stdout",
     "output_type": "stream",
     "text": [
      "Confusion Matrix\n",
      "[[ 5147    65   398     1   179     8     1     1]\n",
      " [   74  1372   115     0     4     2     0     3]\n",
      " [  409   124  9540    66   521   125    27    12]\n",
      " [    1     0    96   315    20     2     0     0]\n",
      " [  157     4   451    21 13462   143    86    14]\n",
      " [    3     0   124     0   293  1000    79     3]\n",
      " [    7     0    18     0   110    29 61720     2]\n",
      " [    1     0     6     1    10    12    11   134]]\n",
      "\n",
      "Classification Report\n",
      "              precision    recall  f1-score   support\n",
      "\n",
      "          10       0.89      0.89      0.89      5800\n",
      "          20       0.88      0.87      0.88      1570\n",
      "          30       0.89      0.88      0.88     10824\n",
      "          40       0.78      0.73      0.75       434\n",
      "          50       0.92      0.94      0.93     14338\n",
      "          60       0.76      0.67      0.71      1502\n",
      "          80       1.00      1.00      1.00     61886\n",
      "          90       0.79      0.77      0.78       175\n",
      "\n",
      "    accuracy                           0.96     96529\n",
      "   macro avg       0.86      0.84      0.85     96529\n",
      "weighted avg       0.96      0.96      0.96     96529\n",
      "\n"
     ]
    }
   ],
   "source": [
    "conf_mtrx = confusion_matrix(y_test, y_predict)\n",
    "print('Confusion Matrix')\n",
    "print(conf_mtrx)\n",
    "print()\n",
    "\n",
    "print('Classification Report')\n",
    "print(classification_report(y_test, y_predict))"
   ]
  },
  {
   "cell_type": "code",
   "execution_count": 805,
   "id": "87cd3f9f",
   "metadata": {},
   "outputs": [],
   "source": [
    "df.drop(df[(df['Code'] == 40) | (df['Code']== 90) ].index, inplace=True)"
   ]
  },
  {
   "cell_type": "markdown",
   "id": "d1a83ea6",
   "metadata": {},
   "source": [
    "# Gradient boosting"
   ]
  },
  {
   "cell_type": "code",
   "execution_count": 806,
   "id": "583ba463",
   "metadata": {},
   "outputs": [],
   "source": [
    "clf = RandomForestClassifier(n_estimators=100, n_jobs=-1)\n",
    "from sklearn.multiclass import OneVsRestClassifier\n",
    "from sklearn.linear_model import SGDClassifier\n",
    "from sklearn.ensemble import GradientBoostingClassifier\n",
    "from sklearn.svm import SVC"
   ]
  },
  {
   "cell_type": "code",
   "execution_count": null,
   "id": "0aa9bd87",
   "metadata": {},
   "outputs": [],
   "source": [
    "# gbc = GradientBoostingClassifier()\n",
    "# parameters = {\n",
    "#     \"n_estimators\":[5,50,250,500],\n",
    "#     \"max_depth\":[1,3,5,7,9],\n",
    "#     \"learning_rate\":[0.01,0.1,1,10,100]\n",
    "# }"
   ]
  },
  {
   "cell_type": "code",
   "execution_count": null,
   "id": "c65bdc40",
   "metadata": {},
   "outputs": [],
   "source": [
    "# from sklearn.model_selection import GridSearchCV\n",
    "# cv = GridSearchCV(gbc,parameters,cv=5)\n",
    "# cv.fit(X_train,y_train.values.ravel())"
   ]
  },
  {
   "cell_type": "code",
   "execution_count": 811,
   "id": "8418fb9d",
   "metadata": {},
   "outputs": [],
   "source": [
    "clf = OneVsRestClassifier(GradientBoostingClassifier(max_depth  = 3 , n_estimators= 500, learning_rate = 0.01, random_state=33), n_jobs=-1)\n",
    "#Use cross-validation to evaluate the model's accuracy\n",
    "# scores = cross_val_score(clf, X_Train, np.ravel(y_Train), cv=5)\n",
    "# acc = scores.mean()"
   ]
  },
  {
   "cell_type": "code",
   "execution_count": null,
   "id": "d1807d42",
   "metadata": {},
   "outputs": [],
   "source": [
    "# scores = cross_val_score(clf, X_train, np.ravel(y_train), cv=5)\n"
   ]
  },
  {
   "cell_type": "code",
   "execution_count": null,
   "id": "640ca5b6",
   "metadata": {},
   "outputs": [],
   "source": [
    "# acc = scores.mean()\n",
    "# print(acc)"
   ]
  },
  {
   "cell_type": "code",
   "execution_count": 812,
   "id": "c77d8747",
   "metadata": {},
   "outputs": [
    {
     "name": "stdout",
     "output_type": "stream",
     "text": [
      "1934.178659439087\n"
     ]
    }
   ],
   "source": [
    "import time\n",
    "\n",
    "start_time = time.time()\n",
    "\n",
    "# Fit the classifier to the data\n",
    "clf.fit(X_train, np.ravel(y_train))\n",
    "\n",
    "elapsed_time = time.time() - start_time\n",
    "\n",
    "print(elapsed_time)\n",
    "\n",
    "# Predict labels for new data\n",
    "predictions = clf.predict(X_test)"
   ]
  },
  {
   "cell_type": "code",
   "execution_count": 813,
   "id": "ea8c559c",
   "metadata": {},
   "outputs": [
    {
     "name": "stdout",
     "output_type": "stream",
     "text": [
      "Accuracy: 89.88%\n"
     ]
    },
    {
     "data": {
      "text/plain": [
       "0.5000418726268266"
      ]
     },
     "execution_count": 813,
     "metadata": {},
     "output_type": "execute_result"
    }
   ],
   "source": [
    "from sklearn.metrics import f1_score\n",
    "# Evaluate the accuracy of the classifier\n",
    "accuracy = accuracy_score(y_test, predictions)\n",
    "print(f'Accuracy: {accuracy:.2%}')\n",
    "\n",
    "\n",
    "\n",
    "rf_f1_tuned= f1_score(y_test,predictions, average = \"macro\" )\n",
    "rf_f1_tuned"
   ]
  },
  {
   "cell_type": "code",
   "execution_count": 814,
   "id": "8eb79302",
   "metadata": {},
   "outputs": [
    {
     "data": {
      "text/plain": [
       "array([80, 80, 80, 80, 80, 80, 80, 80, 80, 80, 80, 80, 80, 80, 80, 80, 80,\n",
       "       80, 80, 80, 80, 80, 80, 80, 80, 80, 80, 80, 80, 80], dtype=int64)"
      ]
     },
     "execution_count": 814,
     "metadata": {},
     "output_type": "execute_result"
    }
   ],
   "source": [
    "prediction = clf.predict(test)\n",
    "prediction[:30]"
   ]
  },
  {
   "cell_type": "code",
   "execution_count": 815,
   "id": "97bc527d",
   "metadata": {},
   "outputs": [
    {
     "data": {
      "text/html": [
       "<div>\n",
       "<style scoped>\n",
       "    .dataframe tbody tr th:only-of-type {\n",
       "        vertical-align: middle;\n",
       "    }\n",
       "\n",
       "    .dataframe tbody tr th {\n",
       "        vertical-align: top;\n",
       "    }\n",
       "\n",
       "    .dataframe thead th {\n",
       "        text-align: right;\n",
       "    }\n",
       "</style>\n",
       "<table border=\"1\" class=\"dataframe\">\n",
       "  <thead>\n",
       "    <tr style=\"text-align: right;\">\n",
       "      <th></th>\n",
       "      <th>Code</th>\n",
       "    </tr>\n",
       "    <tr>\n",
       "      <th>Id</th>\n",
       "      <th></th>\n",
       "    </tr>\n",
       "  </thead>\n",
       "  <tbody>\n",
       "    <tr>\n",
       "      <th>0</th>\n",
       "      <td>80</td>\n",
       "    </tr>\n",
       "    <tr>\n",
       "      <th>1</th>\n",
       "      <td>80</td>\n",
       "    </tr>\n",
       "    <tr>\n",
       "      <th>2</th>\n",
       "      <td>80</td>\n",
       "    </tr>\n",
       "    <tr>\n",
       "      <th>3</th>\n",
       "      <td>80</td>\n",
       "    </tr>\n",
       "    <tr>\n",
       "      <th>4</th>\n",
       "      <td>80</td>\n",
       "    </tr>\n",
       "  </tbody>\n",
       "</table>\n",
       "</div>"
      ],
      "text/plain": [
       "    Code\n",
       "Id      \n",
       "0     80\n",
       "1     80\n",
       "2     80\n",
       "3     80\n",
       "4     80"
      ]
     },
     "execution_count": 815,
     "metadata": {},
     "output_type": "execute_result"
    }
   ],
   "source": [
    "df = pd.DataFrame(prediction)\n",
    "df.index.name = 'Id'\n",
    "df.columns=['Code']\n",
    "# Export the DataFrame as a CSV file\n",
    "df.to_csv('submission4.csv')\n",
    "df.head()"
   ]
  },
  {
   "cell_type": "markdown",
   "id": "598df4e8",
   "metadata": {},
   "source": [
    "## USE IF YOU ADDED NVI, NDWI"
   ]
  },
  {
   "cell_type": "code",
   "execution_count": 593,
   "id": "aff52410",
   "metadata": {},
   "outputs": [],
   "source": [
    "# # Extract the red, green and blue bands from the dataframe:\n",
    "# red = df_test[\"Red\"]\n",
    "# green = df_test[\"Green\"]\n",
    "# blue = df_test[\"Blue\"]\n",
    "# NIR = df_test['NIR']\n",
    "\n",
    "# # Compute the NDVI:\n",
    "# ndvi = (NIR - red) / (NIR + red)\n",
    "\n",
    "# # Compute the NDWI:\n",
    "# ndwi = (green - NIR) / (green + NIR)\n",
    "\n",
    "# # Add the NDVI and NDWI indices to the DataFrame:\n",
    "# df_test[\"NDVI\"] = ndvi\n",
    "# df_test[\"NDWI\"] = ndwi\n",
    "# df_test = df_test.fillna(0)"
   ]
  },
  {
   "cell_type": "code",
   "execution_count": 594,
   "id": "0824ef9e",
   "metadata": {},
   "outputs": [
    {
     "data": {
      "text/html": [
       "<div>\n",
       "<style scoped>\n",
       "    .dataframe tbody tr th:only-of-type {\n",
       "        vertical-align: middle;\n",
       "    }\n",
       "\n",
       "    .dataframe tbody tr th {\n",
       "        vertical-align: top;\n",
       "    }\n",
       "\n",
       "    .dataframe thead th {\n",
       "        text-align: right;\n",
       "    }\n",
       "</style>\n",
       "<table border=\"1\" class=\"dataframe\">\n",
       "  <thead>\n",
       "    <tr style=\"text-align: right;\">\n",
       "      <th></th>\n",
       "      <th>Id</th>\n",
       "      <th>Blue</th>\n",
       "      <th>Green</th>\n",
       "      <th>Red</th>\n",
       "      <th>NIR</th>\n",
       "      <th>NDVI</th>\n",
       "      <th>NDWI</th>\n",
       "    </tr>\n",
       "  </thead>\n",
       "  <tbody>\n",
       "    <tr>\n",
       "      <th>0</th>\n",
       "      <td>0</td>\n",
       "      <td>0.0000</td>\n",
       "      <td>0.0000</td>\n",
       "      <td>0.0000</td>\n",
       "      <td>0.0000</td>\n",
       "      <td>0.000000</td>\n",
       "      <td>0.000000</td>\n",
       "    </tr>\n",
       "    <tr>\n",
       "      <th>1</th>\n",
       "      <td>1</td>\n",
       "      <td>0.1938</td>\n",
       "      <td>0.1880</td>\n",
       "      <td>0.1683</td>\n",
       "      <td>0.3362</td>\n",
       "      <td>0.332805</td>\n",
       "      <td>-0.282717</td>\n",
       "    </tr>\n",
       "    <tr>\n",
       "      <th>2</th>\n",
       "      <td>2</td>\n",
       "      <td>0.1943</td>\n",
       "      <td>0.1874</td>\n",
       "      <td>0.1661</td>\n",
       "      <td>0.3388</td>\n",
       "      <td>0.342048</td>\n",
       "      <td>-0.287723</td>\n",
       "    </tr>\n",
       "    <tr>\n",
       "      <th>3</th>\n",
       "      <td>3</td>\n",
       "      <td>0.1959</td>\n",
       "      <td>0.1876</td>\n",
       "      <td>0.1690</td>\n",
       "      <td>0.3354</td>\n",
       "      <td>0.329897</td>\n",
       "      <td>-0.282600</td>\n",
       "    </tr>\n",
       "    <tr>\n",
       "      <th>4</th>\n",
       "      <td>4</td>\n",
       "      <td>0.1943</td>\n",
       "      <td>0.1873</td>\n",
       "      <td>0.1696</td>\n",
       "      <td>0.3305</td>\n",
       "      <td>0.321736</td>\n",
       "      <td>-0.276555</td>\n",
       "    </tr>\n",
       "  </tbody>\n",
       "</table>\n",
       "</div>"
      ],
      "text/plain": [
       "   Id    Blue   Green     Red     NIR      NDVI      NDWI\n",
       "0   0  0.0000  0.0000  0.0000  0.0000  0.000000  0.000000\n",
       "1   1  0.1938  0.1880  0.1683  0.3362  0.332805 -0.282717\n",
       "2   2  0.1943  0.1874  0.1661  0.3388  0.342048 -0.287723\n",
       "3   3  0.1959  0.1876  0.1690  0.3354  0.329897 -0.282600\n",
       "4   4  0.1943  0.1873  0.1696  0.3305  0.321736 -0.276555"
      ]
     },
     "execution_count": 594,
     "metadata": {},
     "output_type": "execute_result"
    }
   ],
   "source": [
    "df_test.head()"
   ]
  },
  {
   "cell_type": "markdown",
   "id": "e5ee920c",
   "metadata": {},
   "source": [
    "## Predict test_data"
   ]
  },
  {
   "cell_type": "code",
   "execution_count": 740,
   "id": "8424c1a0",
   "metadata": {},
   "outputs": [
    {
     "name": "stdout",
     "output_type": "stream",
     "text": [
      "[80 80 80 80 80 80 80 80 80 80 80 80 80 80 80 80 80 80 80 80 80 80 80 30\n",
      " 30 30 30 30 80 80]\n"
     ]
    }
   ],
   "source": [
    "# X2 = df_test.iloc[:,[1,2,3,4,5,6]]\n",
    "X2 = df_test.iloc[:,[1,2,3,4]] # without ndwi\n",
    "y_pred = gnb.predict(X2)\n",
    "print(y_pred[0:30])"
   ]
  },
  {
   "cell_type": "code",
   "execution_count": 742,
   "id": "aebc9a87",
   "metadata": {
    "scrolled": false
   },
   "outputs": [
    {
     "data": {
      "text/html": [
       "<div>\n",
       "<style scoped>\n",
       "    .dataframe tbody tr th:only-of-type {\n",
       "        vertical-align: middle;\n",
       "    }\n",
       "\n",
       "    .dataframe tbody tr th {\n",
       "        vertical-align: top;\n",
       "    }\n",
       "\n",
       "    .dataframe thead th {\n",
       "        text-align: right;\n",
       "    }\n",
       "</style>\n",
       "<table border=\"1\" class=\"dataframe\">\n",
       "  <thead>\n",
       "    <tr style=\"text-align: right;\">\n",
       "      <th></th>\n",
       "      <th>Code</th>\n",
       "    </tr>\n",
       "    <tr>\n",
       "      <th>Id</th>\n",
       "      <th></th>\n",
       "    </tr>\n",
       "  </thead>\n",
       "  <tbody>\n",
       "    <tr>\n",
       "      <th>0</th>\n",
       "      <td>80</td>\n",
       "    </tr>\n",
       "    <tr>\n",
       "      <th>1</th>\n",
       "      <td>80</td>\n",
       "    </tr>\n",
       "    <tr>\n",
       "      <th>2</th>\n",
       "      <td>80</td>\n",
       "    </tr>\n",
       "    <tr>\n",
       "      <th>3</th>\n",
       "      <td>80</td>\n",
       "    </tr>\n",
       "    <tr>\n",
       "      <th>4</th>\n",
       "      <td>80</td>\n",
       "    </tr>\n",
       "  </tbody>\n",
       "</table>\n",
       "</div>"
      ],
      "text/plain": [
       "    Code\n",
       "Id      \n",
       "0     80\n",
       "1     80\n",
       "2     80\n",
       "3     80\n",
       "4     80"
      ]
     },
     "execution_count": 742,
     "metadata": {},
     "output_type": "execute_result"
    }
   ],
   "source": [
    "df = pd.DataFrame(y_pred)\n",
    "df.index.name = 'Id'\n",
    "df.columns=['Code']\n",
    "# Export the DataFrame as a CSV file\n",
    "df.to_csv('submission1.csv')\n",
    "df.head()"
   ]
  },
  {
   "cell_type": "code",
   "execution_count": 131,
   "id": "63d45288",
   "metadata": {},
   "outputs": [
    {
     "data": {
      "text/plain": [
       "(4620309, 2)"
      ]
     },
     "execution_count": 131,
     "metadata": {},
     "output_type": "execute_result"
    }
   ],
   "source": [
    "df2.shape"
   ]
  },
  {
   "cell_type": "code",
   "execution_count": 129,
   "id": "77003967",
   "metadata": {},
   "outputs": [
    {
     "data": {
      "text/plain": [
       "50    4618000\n",
       "10       2309\n",
       "Name: Code, dtype: int64"
      ]
     },
     "execution_count": 129,
     "metadata": {},
     "output_type": "execute_result"
    }
   ],
   "source": [
    "df2['Code'].value_counts()"
   ]
  }
 ],
 "metadata": {
  "kernelspec": {
   "display_name": "Python 3 (ipykernel)",
   "language": "python",
   "name": "python3"
  },
  "language_info": {
   "codemirror_mode": {
    "name": "ipython",
    "version": 3
   },
   "file_extension": ".py",
   "mimetype": "text/x-python",
   "name": "python",
   "nbconvert_exporter": "python",
   "pygments_lexer": "ipython3",
   "version": "3.9.13"
  }
 },
 "nbformat": 4,
 "nbformat_minor": 5
}
